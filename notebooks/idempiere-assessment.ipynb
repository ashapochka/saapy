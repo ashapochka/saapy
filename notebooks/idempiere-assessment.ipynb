{
 "cells": [
  {
   "cell_type": "code",
   "execution_count": 9,
   "metadata": {
    "collapsed": false
   },
   "outputs": [],
   "source": [
    "import sys\n",
    "\n",
    "# add project root directory to python path to enable import of saapy\n",
    "if \"..\" not in sys.path:\n",
    "    sys.path.append('..')\n",
    "    \n",
    "import logging\n",
    "logging.captureWarnings(True) # mostly warnings caused by self-signed certs\n",
    "\n",
    "from collections import namedtuple\n",
    "import itertools\n",
    "import json\n",
    "import time\n",
    "import difflib\n",
    "\n",
    "# next two liner switchs matplotlib to non-interactive mode\n",
    "# to stop osx python rocket launcher from jumping in the dock\n",
    "# ref http://leancrew.com/all-this/2014/01/stopping-the-python-rocketship-icon/\n",
    "import matplotlib\n",
    "matplotlib.use(\"Agg\")\n",
    "\n",
    "import matplotlib.pyplot as plt\n",
    "# Enable inline plotting\n",
    "%matplotlib inline\n",
    "\n",
    "import pandas as pd\n",
    "\n",
    "from saapy import Workspace, Environment\n",
    "\n",
    "def setup_env():\n",
    "    ws = Workspace.from_home(\"iDempiere\", rel_root_dir=\"Projects\", work_dir=\"iDempiere\")\n",
    "    env = Environment(ws)\n",
    "    env.setup()\n",
    "    return env"
   ]
  },
  {
   "cell_type": "code",
   "execution_count": 13,
   "metadata": {
    "collapsed": false
   },
   "outputs": [],
   "source": [
    "def export_jira_issues(env):\n",
    "    issues = list(env.jira.iter_issues('IDEMPIERE'))\n",
    "    s = json.dumps(issues, indent=4)\n",
    "    issues_json = env.ws.abs_path('idempiere_jira_issues.json')\n",
    "    issues_json.write_text(s)"
   ]
  },
  {
   "cell_type": "code",
   "execution_count": null,
   "metadata": {
    "collapsed": true
   },
   "outputs": [],
   "source": [
    "def build_graph(env):\n",
    "    export_jira_issues(env)\n",
    "    export_commit_tree(env)\n",
    "    commits = lookup_refs_from_commits(env)\n",
    "    commits[commits['idempiere_jira_issues'].apply(lambda issues: (type(issues) == list and len(issues) > 0))]\n",
    "    sonar_dups = env.sonar.get(\"api/duplications/show\", dict(\n",
    "            key=\"IdempiereKey:temp/org.adempiere.extend/src/test/functional/MBPGroupTest.java\"))"
   ]
  },
  {
   "cell_type": "code",
   "execution_count": 10,
   "metadata": {
    "collapsed": true
   },
   "outputs": [],
   "source": [
    "def find_reporting_debt():\n",
    "    query = \"\"\"\n",
    "    MATCH \n",
    "        (file:JavaFile)-[:DEFINES]->\n",
    "        (zk_coupled_class:JavaClass)\n",
    "        -[zk_couple:COUPLES]->\n",
    "        (zk_class:JavaClass) \n",
    "    WHERE \n",
    "        zk_class.name =~ {zk_class_name_exp} AND \n",
    "        zk_coupled_class.name =~ {class_name_exp}\n",
    "    WITH file, zk_coupled_class, zk_couple\n",
    "    MATCH \n",
    "        (file:JavaFile)-[:DEFINES]->\n",
    "        (zk_coupled_class:JavaClass)\n",
    "        -[db_couple:COUPLES]->\n",
    "        (db_class:JavaClass) \n",
    "    WHERE db_class.name =~ {db_class_name_exp} \n",
    "    RETURN DISTINCT file, zk_couple, db_couple\n",
    "    \"\"\"\n",
    "    zk_class_name_exp = \"(?i)^org\\.zkoss.*\"\n",
    "    class_name_exp = \"(?i).*report.*\"\n",
    "    db_class_name_exp = \"(?i)^java\\.sql.*\"\n",
    "    yield query, dict(zk_class_name_exp=zk_class_name_exp, \n",
    "                      db_class_name_exp=db_class_name_exp, \n",
    "                      class_name_exp=class_name_exp)\n",
    "    \n",
    "def find_class_names():\n",
    "    query = \"\"\"\n",
    "    MATCH (class:JavaClass)\n",
    "    RETURN class.name as class_name\n",
    "    \"\"\"\n",
    "    yield query, {}"
   ]
  },
  {
   "cell_type": "code",
   "execution_count": 14,
   "metadata": {
    "collapsed": true
   },
   "outputs": [],
   "source": [
    "def analyze():\n",
    "    env = setup_env()\n",
    "    reporting_debt = env.neo4j.run_in_tx(find_reporting_debt)"
   ]
  },
  {
   "cell_type": "code",
   "execution_count": 18,
   "metadata": {
    "collapsed": false
   },
   "outputs": [
    {
     "name": "stdout",
     "output_type": "stream",
     "text": [
      "<class 'generator'>\n",
      "starting batch\n",
      "batch entered\n",
      "batch loop yielding\n",
      "iterating: a\n",
      "batch loop yielded\n",
      "batch loop yielding\n",
      "iterating: b\n",
      "batch loop yielded\n",
      "batch loop yielding\n",
      "iterating: c\n",
      "batch loop yielded\n",
      "batch loop yielding\n",
      "iterating: d\n",
      "batch loop yielded\n",
      "batch exiting\n"
     ]
    }
   ],
   "source": [
    "def batch_job(l):\n",
    "    print('batch entered')\n",
    "    for i in l:\n",
    "        print('batch loop yielding')\n",
    "        yield i\n",
    "        print('batch loop yielded')\n",
    "    print('batch exiting')\n",
    "\n",
    "def run_batch(batch, skip=False):\n",
    "    print(type(batch))\n",
    "    print('starting batch')\n",
    "    if not skip:\n",
    "        for i in batch:\n",
    "            print('iterating:', i)\n",
    "        \n",
    "run_batch(batch_job('abcd'), skip=False)"
   ]
  },
  {
   "cell_type": "code",
   "execution_count": 25,
   "metadata": {
    "collapsed": false
   },
   "outputs": [
    {
     "name": "stdout",
     "output_type": "stream",
     "text": [
      "True\n",
      "True\n",
      "True\n",
      "True\n",
      "False\n",
      "False\n",
      "True\n",
      "True\n",
      "False\n"
     ]
    }
   ],
   "source": [
    "from collections.abc import Generator, Iterable, Iterator\n",
    "\n",
    "print(isinstance(batch_job([]), Iterable))\n",
    "print(isinstance(batch_job([]), Iterator))\n",
    "print(isinstance(batch_job([]), Generator))\n",
    "print(isinstance([], Iterable))\n",
    "print(isinstance([], Iterator))\n",
    "print(isinstance([], Generator))\n",
    "print(isinstance(iter([]), Iterable))\n",
    "print(isinstance(iter([]), Iterator))\n",
    "print(isinstance(iter([]), Generator))"
   ]
  },
  {
   "cell_type": "code",
   "execution_count": 29,
   "metadata": {
    "collapsed": false
   },
   "outputs": [
    {
     "ename": "AttributeError",
     "evalue": "'int' object has no attribute 'next'",
     "output_type": "error",
     "traceback": [
      "\u001b[0;31m---------------------------------------------------------------------------\u001b[0m",
      "\u001b[0;31mAttributeError\u001b[0m                            Traceback (most recent call last)",
      "\u001b[0;32m<ipython-input-29-d9a31acd035f>\u001b[0m in \u001b[0;36m<module>\u001b[0;34m()\u001b[0m\n\u001b[0;32m----> 1\u001b[0;31m \u001b[0;32mfor\u001b[0m \u001b[0mi\u001b[0m \u001b[0;32min\u001b[0m \u001b[0miter\u001b[0m\u001b[0;34m(\u001b[0m\u001b[0;34m[\u001b[0m\u001b[0;36m1\u001b[0m\u001b[0;34m,\u001b[0m \u001b[0;36m2\u001b[0m\u001b[0;34m,\u001b[0m \u001b[0;36m3\u001b[0m\u001b[0;34m]\u001b[0m\u001b[0;34m)\u001b[0m\u001b[0;34m:\u001b[0m \u001b[0mi\u001b[0m\u001b[0;34m.\u001b[0m\u001b[0mnext\u001b[0m\u001b[0;34m(\u001b[0m\u001b[0;34m)\u001b[0m\u001b[0;34m\u001b[0m\u001b[0m\n\u001b[0m",
      "\u001b[0;31mAttributeError\u001b[0m: 'int' object has no attribute 'next'"
     ]
    }
   ],
   "source": [
    "for i in iter([1, 2, 3]): i.next()"
   ]
  },
  {
   "cell_type": "code",
   "execution_count": 57,
   "metadata": {
    "collapsed": false
   },
   "outputs": [
    {
     "data": {
      "text/plain": [
       "<MagicMock name='mock.session().close()' id='4953676096'>"
      ]
     },
     "execution_count": 57,
     "metadata": {},
     "output_type": "execute_result"
    }
   ],
   "source": [
    "from unittest.mock import MagicMock\n",
    "\n",
    "driver_mock = MagicMock()\n",
    "session = driver_mock.session()\n",
    "tx = session.begin_transaction()\n",
    "with tx:\n",
    "    tx.run(\"dummy select\", dict(key='value'))\n",
    "session.close()"
   ]
  },
  {
   "cell_type": "code",
   "execution_count": 76,
   "metadata": {
    "collapsed": false
   },
   "outputs": [],
   "source": [
    "driver_mock.session.return_value.begin_transaction.return_value.run.assert_called_with(\"dummy select\", dict(key='value'))"
   ]
  },
  {
   "cell_type": "code",
   "execution_count": null,
   "metadata": {
    "collapsed": true
   },
   "outputs": [],
   "source": []
  }
 ],
 "metadata": {
  "kernelspec": {
   "display_name": "Python 3",
   "language": "python",
   "name": "python3"
  },
  "language_info": {
   "codemirror_mode": {
    "name": "ipython",
    "version": 3
   },
   "file_extension": ".py",
   "mimetype": "text/x-python",
   "name": "python",
   "nbconvert_exporter": "python",
   "pygments_lexer": "ipython3",
   "version": "3.5.1"
  }
 },
 "nbformat": 4,
 "nbformat_minor": 0
}
