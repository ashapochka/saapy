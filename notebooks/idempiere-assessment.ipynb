{
 "cells": [
  {
   "cell_type": "markdown",
   "metadata": {},
   "source": [
    "# IDempiere Assessment Demo\n",
    "\n",
    "The notebook demonstrates graph based technical debt assessment technique. The code relies on SAApy. The assessment implementation is split into 3 steps:\n",
    "\n",
    "1. Assessment environment preparation\n",
    "2. Assessment Graph construction using multiple available project iDempiere artifacts\n",
    "3. Analysis of the project technical debt based on the constructed graph\n",
    "\n",
    "## Assessment Environment Preparation"
   ]
  },
  {
   "cell_type": "code",
   "execution_count": 9,
   "metadata": {
    "collapsed": false
   },
   "outputs": [],
   "source": [
    "import sys\n",
    "\n",
    "# add project root directory to python path to enable import of saapy\n",
    "if \"..\" not in sys.path:\n",
    "    sys.path.append('..')\n",
    "    \n",
    "import logging\n",
    "logging.captureWarnings(True) # mostly warnings caused by self-signed certs\n",
    "\n",
    "# next two liner switchs matplotlib to non-interactive mode\n",
    "# to stop osx python rocket launcher from jumping in the dock\n",
    "# ref http://leancrew.com/all-this/2014/01/stopping-the-python-rocketship-icon/\n",
    "import matplotlib\n",
    "matplotlib.use(\"Agg\")\n",
    "\n",
    "import matplotlib.pyplot as plt\n",
    "# Enable inline plotting\n",
    "%matplotlib inline\n",
    "\n",
    "import pandas as pd\n",
    "\n",
    "from saapy import Workspace, Environment\n",
    "\n",
    "def setup_env():\n",
    "    ws = Workspace.from_home(\"iDempiere\", rel_root_dir=\"Projects\", work_dir=\"iDempiere\")\n",
    "    env = Environment(ws)\n",
    "    env.setup()\n",
    "    return env\n",
    "\n",
    "env = setup_env()"
   ]
  },
  {
   "cell_type": "markdown",
   "metadata": {},
   "source": [
    "## Assessment Graph Construction"
   ]
  },
  {
   "cell_type": "code",
   "execution_count": null,
   "metadata": {
    "collapsed": true
   },
   "outputs": [],
   "source": [
    "def build_graph(env):\n",
    "    export_jira_issues(env)\n",
    "    export_commit_tree(env)\n",
    "    commits = lookup_refs_from_commits(env)"
   ]
  },
  {
   "cell_type": "markdown",
   "metadata": {},
   "source": [
    "## Technical Debt Analysis"
   ]
  },
  {
   "cell_type": "code",
   "execution_count": 10,
   "metadata": {
    "collapsed": true
   },
   "outputs": [],
   "source": [
    "def find_reporting_debt():\n",
    "    query = \"\"\"\n",
    "    MATCH \n",
    "        (file:JavaFile)-[:DEFINES]->\n",
    "        (zk_coupled_class:JavaClass)\n",
    "        -[zk_couple:COUPLES]->\n",
    "        (zk_class:JavaClass) \n",
    "    WHERE \n",
    "        zk_class.name =~ {zk_class_name_exp} AND \n",
    "        zk_coupled_class.name =~ {class_name_exp}\n",
    "    WITH file, zk_coupled_class, zk_couple\n",
    "    MATCH \n",
    "        (file:JavaFile)-[:DEFINES]->\n",
    "        (zk_coupled_class:JavaClass)\n",
    "        -[db_couple:COUPLES]->\n",
    "        (db_class:JavaClass) \n",
    "    WHERE db_class.name =~ {db_class_name_exp} \n",
    "    RETURN DISTINCT file, zk_couple, db_couple\n",
    "    \"\"\"\n",
    "    zk_class_name_exp = \"(?i)^org\\.zkoss.*\"\n",
    "    class_name_exp = \"(?i).*report.*\"\n",
    "    db_class_name_exp = \"(?i)^java\\.sql.*\"\n",
    "    yield query, dict(zk_class_name_exp=zk_class_name_exp, \n",
    "                      db_class_name_exp=db_class_name_exp, \n",
    "                      class_name_exp=class_name_exp)\n",
    "    \n",
    "def find_class_names():\n",
    "    query = \"\"\"\n",
    "    MATCH (class:JavaClass)\n",
    "    RETURN class.name as class_name\n",
    "    \"\"\"\n",
    "    yield query, {}"
   ]
  },
  {
   "cell_type": "code",
   "execution_count": 14,
   "metadata": {
    "collapsed": true
   },
   "outputs": [],
   "source": [
    "def analyze():\n",
    "    env = setup_env()\n",
    "    reporting_debt = env.neo4j.run_in_tx(find_reporting_debt)"
   ]
  },
  {
   "cell_type": "code",
   "execution_count": null,
   "metadata": {
    "collapsed": true
   },
   "outputs": [],
   "source": []
  }
 ],
 "metadata": {
  "kernelspec": {
   "display_name": "Python 3",
   "language": "python",
   "name": "python3"
  },
  "language_info": {
   "codemirror_mode": {
    "name": "ipython",
    "version": 3
   },
   "file_extension": ".py",
   "mimetype": "text/x-python",
   "name": "python",
   "nbconvert_exporter": "python",
   "pygments_lexer": "ipython3",
   "version": "3.5.1"
  }
 },
 "nbformat": 4,
 "nbformat_minor": 0
}
