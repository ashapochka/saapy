{
 "cells": [
  {
   "cell_type": "code",
   "execution_count": 2,
   "metadata": {
    "collapsed": false
   },
   "outputs": [],
   "source": [
    "import sys\n",
    "\n",
    "# add project root directory to python path to enable import of saapy\n",
    "if \"..\" not in sys.path:\n",
    "    sys.path.append('..')\n",
    "    \n",
    "import logging\n",
    "logging.captureWarnings(True) # mostly warnings caused by self-signed certs\n",
    "\n",
    "from saapy import Workspace, Environment\n",
    "\n",
    "from collections import namedtuple\n",
    "\n",
    "def setup_env():\n",
    "    ws = Workspace.from_home(\"iDempiere\", rel_root_dir=\"Projects\", work_dir=\"iDempiere\")\n",
    "    env = Environment(ws)\n",
    "    env.setup()\n",
    "    return env\n",
    "\n",
    "env = setup_env()"
   ]
  },
  {
   "cell_type": "code",
   "execution_count": 4,
   "metadata": {
    "collapsed": true
   },
   "outputs": [],
   "source": [
    "def find_reporting_debt():\n",
    "    query = \"\"\"\n",
    "    MATCH \n",
    "        (file:JavaFile)-[:DEFINES]->\n",
    "        (zk_coupled_class:JavaClass)\n",
    "        -[zk_couple:COUPLES]->\n",
    "        (zk_class:JavaClass) \n",
    "    WHERE \n",
    "        zk_class.name =~ {zk_class_name_exp} AND \n",
    "        zk_coupled_class.name =~ {class_name_exp}\n",
    "    WITH file, zk_coupled_class, zk_couple\n",
    "    MATCH \n",
    "        (file:JavaFile)-[:DEFINES]->\n",
    "        (zk_coupled_class:JavaClass)\n",
    "        -[db_couple:COUPLES]->\n",
    "        (db_class:JavaClass) \n",
    "    WHERE db_class.name =~ {db_class_name_exp} \n",
    "    RETURN DISTINCT file, zk_couple, db_couple\n",
    "    \"\"\"\n",
    "    zk_class_name_exp = \"(?i)^org\\.zkoss.*\"\n",
    "    class_name_exp = \"(?i).*report.*\"\n",
    "    db_class_name_exp = \"(?i)^java\\.sql.*\"\n",
    "    yield query, dict(zk_class_name_exp=zk_class_name_exp, \n",
    "                      db_class_name_exp=db_class_name_exp, \n",
    "                      class_name_exp=class_name_exp)"
   ]
  },
  {
   "cell_type": "code",
   "execution_count": 5,
   "metadata": {
    "collapsed": true
   },
   "outputs": [],
   "source": [
    "def find_class_names():\n",
    "    query = \"\"\"\n",
    "    MATCH (class:JavaClass)\n",
    "    RETURN class.name as class_name\n",
    "    \"\"\"\n",
    "    yield query, {}"
   ]
  },
  {
   "cell_type": "code",
   "execution_count": 7,
   "metadata": {
    "collapsed": true
   },
   "outputs": [],
   "source": [
    "def main(env):\n",
    "    reporting_debt = env.neo4j.run_in_tx(find_reporting_debt)\n",
    "    sonar_dups = env.sonar.get(\"api/duplications/show\", dict(\n",
    "            key=\"IdempiereKey:temp/org.adempiere.extend/src/test/functional/MBPGroupTest.java\"))"
   ]
  },
  {
   "cell_type": "code",
   "execution_count": 9,
   "metadata": {
    "collapsed": true
   },
   "outputs": [],
   "source": [
    "import pandas as pd\n",
    "import itertools\n",
    "\n",
    "\n",
    "def commit_to_dict(c):\n",
    "    d = dict(\n",
    "        hexsha=c.hexsha,\n",
    "        author_name = c.author.name,\n",
    "        author_email = c.author.email,\n",
    "        authored_date = c.authored_date,\n",
    "#         stats_lines = c.stats.total['lines'],\n",
    "#         stats_deletions = c.stats.total['deletions'],\n",
    "#         stats_files = c.stats.total['files'],\n",
    "#         stats_insertions = c.stats.total['insertions']\n",
    "    )\n",
    "    return d\n",
    "\n",
    "def commit_parents(c):\n",
    "    for p in c.parents:\n",
    "        d = dict(\n",
    "            commit=c.hexsha,\n",
    "            parent_commit = p.hexsha\n",
    "        )\n",
    "        yield d\n",
    "        \n",
    "def export_commit_tree(env):\n",
    "    commits = list(env.git.repo.iter_commits())\n",
    "    commit_dicts = [commit_to_dict(c) for c in commits]\n",
    "    cframe = pd.DataFrame(commit_dicts)\n",
    "    cframe.to_csv(env.ws.abs_path_str(\"commits.csv\"), index=False)\n",
    "    cparents = itertools.chain.from_iterable((commit_parents(c) for c in commits))\n",
    "    pframe= pd.DataFrame(list(cparents))\n",
    "    pframe.to_csv(env.ws.abs_path_str(\"parents.csv\"), index=False)"
   ]
  },
  {
   "cell_type": "code",
   "execution_count": 10,
   "metadata": {
    "collapsed": true
   },
   "outputs": [],
   "source": [
    "export_commit_tree(env)"
   ]
  },
  {
   "cell_type": "code",
   "execution_count": null,
   "metadata": {
    "collapsed": true
   },
   "outputs": [],
   "source": []
  }
 ],
 "metadata": {
  "kernelspec": {
   "display_name": "Python 3",
   "language": "python",
   "name": "python3"
  },
  "language_info": {
   "codemirror_mode": {
    "name": "ipython",
    "version": 3
   },
   "file_extension": ".py",
   "mimetype": "text/x-python",
   "name": "python",
   "nbconvert_exporter": "python",
   "pygments_lexer": "ipython3",
   "version": "3.5.1"
  }
 },
 "nbformat": 4,
 "nbformat_minor": 0
}
