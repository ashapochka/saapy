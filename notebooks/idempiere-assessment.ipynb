{
 "cells": [
  {
   "cell_type": "code",
   "execution_count": 1,
   "metadata": {
    "collapsed": true
   },
   "outputs": [],
   "source": [
    "import sys\n",
    "\n",
    "# add project root directory to python path to enable import of saapy\n",
    "if \"..\" not in sys.path:\n",
    "    sys.path.append('..')"
   ]
  },
  {
   "cell_type": "code",
   "execution_count": 2,
   "metadata": {
    "collapsed": true
   },
   "outputs": [],
   "source": [
    "from saapy.workspace import Workspace\n",
    "ws = Workspace.from_home(\"iDempiere\", rel_root_dir=\"Projects\", work_dir=\"iDempiere\")"
   ]
  },
  {
   "cell_type": "code",
   "execution_count": 3,
   "metadata": {
    "collapsed": true
   },
   "outputs": [],
   "source": [
    "import logging\n",
    "logging.captureWarnings(True) # mostly warnings caused by self-signed certs"
   ]
  },
  {
   "cell_type": "code",
   "execution_count": 4,
   "metadata": {
    "collapsed": false
   },
   "outputs": [],
   "source": [
    "# This does not do much at the moment, mostly test of connectivity to sonar\n",
    "\n",
    "from saapy.clients import SonarClient\n",
    "\n",
    "sonar_url = ws.get_service_url(\"sonar_decomposeit\")\n",
    "sonar_token_name, sonar_token = ws.get_service_credentials(\"sonar_decomposeit\")\n",
    "sonar = SonarClient(sonar_url, sonar_token)\n",
    "sonar_dups = sonar.get(\"api/duplications/show\", \n",
    "                       dict(key=\"IdempiereKey:temp/org.adempiere.extend/src/test/functional/MBPGroupTest.java\"))"
   ]
  },
  {
   "cell_type": "code",
   "execution_count": null,
   "metadata": {
    "collapsed": false
   },
   "outputs": [],
   "source": []
  }
 ],
 "metadata": {
  "kernelspec": {
   "display_name": "Python 3",
   "language": "python",
   "name": "python3"
  },
  "language_info": {
   "codemirror_mode": {
    "name": "ipython",
    "version": 3
   },
   "file_extension": ".py",
   "mimetype": "text/x-python",
   "name": "python",
   "nbconvert_exporter": "python",
   "pygments_lexer": "ipython3",
   "version": "3.5.1"
  }
 },
 "nbformat": 4,
 "nbformat_minor": 0
}
