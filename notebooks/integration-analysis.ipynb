{
 "cells": [
  {
   "cell_type": "code",
   "execution_count": 1,
   "metadata": {
    "collapsed": true
   },
   "outputs": [],
   "source": [
    "import understand\n",
    "import sys, traceback\n",
    "\n",
    "\n",
    "def open_understand_db(path):\n",
    "    try:\n",
    "        db = understand.open(path)\n",
    "    except understand.UnderstandError:\n",
    "        traceback.print_exc(file=sys.stdout)\n",
    "    return db"
   ]
  },
  {
   "cell_type": "code",
   "execution_count": 41,
   "metadata": {
    "collapsed": true
   },
   "outputs": [],
   "source": [
    "def lookup_imports(file_ents, import_prefix):\n",
    "    imports = [(None, [])]\n",
    "    for f in file_ents:\n",
    "        import_refs = f.refs(\"import\")\n",
    "        for i in import_refs:\n",
    "            imported_ent = i.ent()\n",
    "            if imported_ent.longname().startswith(import_prefix):\n",
    "                if f is not imports[-1][0]:\n",
    "                    imports.append((f, []))\n",
    "                imports[-1][1].append(imported_ent)\n",
    "    del imports[0]\n",
    "    return imports"
   ]
  },
  {
   "cell_type": "code",
   "execution_count": 44,
   "metadata": {
    "collapsed": true
   },
   "outputs": [],
   "source": [
    "def lookup_mentions(ents, subject):\n",
    "    mentions = [(None, [])]\n",
    "    for e in ents:\n",
    "        try:\n",
    "            lexer = e.lexer()\n",
    "            for lexeme in lexer:\n",
    "                if subject in lexeme.text().casefold():\n",
    "                    if e is not mentions[-1][0]:\n",
    "                        mentions.append((e, []))\n",
    "                    mentions[-1][1].append(lexeme)\n",
    "        except understand.UnderstandError:\n",
    "            traceback.print_exc(file=sys.stdout)\n",
    "    del mentions[0]\n",
    "    return mentions"
   ]
  },
  {
   "cell_type": "code",
   "execution_count": 59,
   "metadata": {
    "collapsed": true
   },
   "outputs": [],
   "source": [
    "def analyze_jpos():\n",
    "    db = open_understand_db(\"../data/jpos/jpos.udb\")\n",
    "    jpos_impl = db.lookup_arch(\"Directory Structure/main/java/org/jpos\")\n",
    "    jpos_files = jpos_impl.ents(True)\n",
    "    bc_imports = lookup_imports(jpos_files, \"org.bouncycastle\")\n",
    "    bc_metrics = []\n",
    "    for bci in bc_imports:\n",
    "        bc_metrics.append((bci[0], bci[0].metric([\"CountLine\", \"SumCyclomatic\"])))\n",
    "    #bc_mentions = lookup_mentions(jpos_files, \"bouncycastle\")\n",
    "    #bc_mentions1 = [(m[0].longname(), \n",
    "    #                 [(l.token(), l.ent().kind() if l.ent() else None, \n",
    "    #                   l.ent().longname() if l.ent() else None, l.text()) \n",
    "    #                  for l in m[1]]) for m in bc_mentions]\n",
    "    \n",
    "    from IPython.display import display\n",
    "    \n",
    "    display(bc_imports)\n",
    "    display(bc_metrics)\n",
    "    #display(bc_mentions)\n",
    "    #display(bc_mentions1)"
   ]
  },
  {
   "cell_type": "code",
   "execution_count": 60,
   "metadata": {
    "collapsed": false
   },
   "outputs": [
    {
     "data": {
      "text/plain": [
       "[(jJPOS:/jpos/src/main/java/org/jpos/security/SystemSeed.java,\n",
       "  [jorg.bouncycastle.util.encoders.Base64@]),\n",
       " (jJPOS:/jpos/src/main/java/org/jpos/util/PGPHelper.java,\n",
       "  [jorg.bouncycastle.openpgp@,\n",
       "   jorg.bouncycastle.bcpg.ArmoredInputStream@,\n",
       "   jorg.bouncycastle.jce.provider.BouncyCastleProvider@,\n",
       "   jorg.bouncycastle.openpgp.operator.KeyFingerPrintCalculator@,\n",
       "   jorg.bouncycastle.openpgp.operator.bc.BcKeyFingerprintCalculator@,\n",
       "   jorg.bouncycastle.openpgp.operator.jcajce.JcaPGPContentVerifierBuilderProvider@])]"
      ]
     },
     "metadata": {},
     "output_type": "display_data"
    },
    {
     "data": {
      "text/plain": [
       "[(jJPOS:/jpos/src/main/java/org/jpos/security/SystemSeed.java,\n",
       "  {'CountLine': 66, 'SumCyclomatic': 5}),\n",
       " (jJPOS:/jpos/src/main/java/org/jpos/util/PGPHelper.java,\n",
       "  {'CountLine': 213, 'SumCyclomatic': 34})]"
      ]
     },
     "metadata": {},
     "output_type": "display_data"
    }
   ],
   "source": [
    "analyze_jpos()"
   ]
  },
  {
   "cell_type": "code",
   "execution_count": null,
   "metadata": {
    "collapsed": true
   },
   "outputs": [],
   "source": []
  }
 ],
 "metadata": {
  "kernelspec": {
   "display_name": "Python 3",
   "language": "python",
   "name": "python3"
  },
  "language_info": {
   "codemirror_mode": {
    "name": "ipython",
    "version": 3
   },
   "file_extension": ".py",
   "mimetype": "text/x-python",
   "name": "python",
   "nbconvert_exporter": "python",
   "pygments_lexer": "ipython3",
   "version": "3.5.1"
  }
 },
 "nbformat": 4,
 "nbformat_minor": 0
}
