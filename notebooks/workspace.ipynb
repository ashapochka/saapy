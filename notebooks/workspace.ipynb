{
 "cells": [
  {
   "cell_type": "code",
   "execution_count": 32,
   "metadata": {
    "collapsed": true
   },
   "outputs": [],
   "source": [
    "from pathlib import Path, PurePath\n",
    "import shutil\n",
    "import time\n",
    "\n",
    "\n",
    "class Workspace:\n",
    "    def __init__(self, name, local_root_dir, work_dir=None, dry_run=False):\n",
    "        self.name = name\n",
    "        self.local_root_dir = Path(local_root_dir).resolve()\n",
    "        self.work_dir_part = PurePath(work_dir or name)\n",
    "        self.work_dir = self.local_root_dir / self.work_dir_part\n",
    "        if not dry_run:\n",
    "            self.work_dir.mkdir(exist_ok=True)\n",
    "        \n",
    "    def __str__(self):\n",
    "        return \"<Workspace name='{0}' work_dir={1}>\".format(self.name, self.work_dir)\n",
    "    \n",
    "    @classmethod\n",
    "    def from_home(cls, name, work_dir=None, dry_run=False):\n",
    "        return cls(name, Path.home(), work_dir=work_dir, dry_run=dry_run)\n",
    "\n",
    "    @classmethod\n",
    "    def from_current(cls, name, work_dir=None, dry_run=False):\n",
    "        return cls(name, Path(\".\"), work_dir=work_dir, dry_run=dry_run)\n",
    "    \n",
    "    def touch(self, filename):\n",
    "        filepath = self.work_dir / filename\n",
    "        filepath.touch()\n",
    "        return filepath\n",
    "        \n",
    "    def mkdir(self, dirname):\n",
    "        dirpath = self.work_dir / dirname\n",
    "        dirpath.mkdir(parents=True, exist_ok=True)\n",
    "        return dirpath\n",
    "    \n",
    "    def archive(self):\n",
    "        timestr = time.strftime(\"%Y%m%d-%H%M%S\")\n",
    "        archive_name = \"{0}_{1}\".format(self.work_dir, timestr)\n",
    "        shutil.make_archive(archive_name, \"zip\", \n",
    "                            str(self.local_root_dir), \n",
    "                            str(self.work_dir.name))"
   ]
  },
  {
   "cell_type": "code",
   "execution_count": 33,
   "metadata": {
    "collapsed": false
   },
   "outputs": [
    {
     "name": "stdout",
     "output_type": "stream",
     "text": [
      "<Workspace name='Idempiere 3.0' work_dir=/Users/ashapoch/Dropbox/_projects/saapy/notebooks/idemp>\n"
     ]
    }
   ],
   "source": [
    "ws = Workspace.from_current(\"Idempiere 3.0\", \"idemp\")\n",
    "print(ws)"
   ]
  },
  {
   "cell_type": "code",
   "execution_count": 34,
   "metadata": {
    "collapsed": false
   },
   "outputs": [
    {
     "data": {
      "text/plain": [
       "PosixPath('/Users/ashapoch/Dropbox/_projects/saapy/notebooks/idemp/d1/test2.txt')"
      ]
     },
     "execution_count": 34,
     "metadata": {},
     "output_type": "execute_result"
    }
   ],
   "source": [
    "ws.mkdir(\"dummy\")\n",
    "ws.mkdir(\"d1/d2\")\n",
    "ws.touch(\"test.txt\")\n",
    "ws.touch(\"d1/test2.txt\")"
   ]
  },
  {
   "cell_type": "code",
   "execution_count": 35,
   "metadata": {
    "collapsed": false
   },
   "outputs": [],
   "source": [
    "ws.archive()"
   ]
  },
  {
   "cell_type": "code",
   "execution_count": null,
   "metadata": {
    "collapsed": true
   },
   "outputs": [],
   "source": [
    ""
   ]
  }
 ],
 "metadata": {
  "kernelspec": {
   "display_name": "Python 3",
   "language": "python",
   "name": "python3"
  },
  "language_info": {
   "codemirror_mode": {
    "name": "ipython",
    "version": 3.0
   },
   "file_extension": ".py",
   "mimetype": "text/x-python",
   "name": "python",
   "nbconvert_exporter": "python",
   "pygments_lexer": "ipython3",
   "version": "3.5.1"
  }
 },
 "nbformat": 4,
 "nbformat_minor": 0
}