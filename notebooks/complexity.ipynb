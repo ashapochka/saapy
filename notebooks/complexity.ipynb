{
 "cells": [
  {
   "cell_type": "markdown",
   "metadata": {
    "collapsed": true
   },
   "source": [
    "# Complexity Notebook\n",
    "\n",
    "The complexity notebook experiments with code complexity analysis."
   ]
  },
  {
   "cell_type": "code",
   "execution_count": 10,
   "metadata": {
    "collapsed": true
   },
   "outputs": [],
   "source": [
    "import understand\n",
    "import sys, traceback"
   ]
  },
  {
   "cell_type": "code",
   "execution_count": 13,
   "metadata": {
    "collapsed": false
   },
   "outputs": [],
   "source": [
    "db = None\n",
    "try:\n",
    "    db = understand.open(\"/Users/ashapoch/Dropbox/_tsg/github-tsg-assessment-service/samples/tdsandbox/tdsandbox.udb\")\n",
    "except understand.UnderstandError:\n",
    "    traceback.print_exc(file=sys.stdout)"
   ]
  },
  {
   "cell_type": "code",
   "execution_count": 15,
   "metadata": {
    "collapsed": false
   },
   "outputs": [],
   "source": [
    "def print_metrics(db):\n",
    "    metrics = db.metric(db.metrics())\n",
    "    for k,v in sorted(metrics.items()):\n",
    "        print (k,\"=\",v)"
   ]
  },
  {
   "cell_type": "code",
   "execution_count": 20,
   "metadata": {
    "collapsed": true
   },
   "outputs": [],
   "source": [
    "def print_complexities(db):\n",
    "    funcs = db.lookup(\"com.softserve.td.*\", \"function,method,procedure\")\n",
    "    for f in funcs:\n",
    "        name = f.name()\n",
    "        complexity = f.metric([\"CyclomaticStrict\"])\n",
    "        print(f.longname(), \"(\", f.parameters(), \")\", \"CyclomaticStrict is\", complexity[\"CyclomaticStrict\"])"
   ]
  },
  {
   "cell_type": "code",
   "execution_count": 21,
   "metadata": {
    "collapsed": false
   },
   "outputs": [
    {
     "name": "stdout",
     "output_type": "stream",
     "text": [
      "com.softserve.td.alg.rest.Parentheses.Parentheses ( String[] payload ) CyclomaticStrict is 1\n",
      "com.softserve.td.alg.rest.Parentheses.getPayload (  ) CyclomaticStrict is 1\n",
      "com.softserve.td.alg.services.impl.ParenthesesServiceImpl1.dfs ( ArrayList<String> result,String s,int left,int right ) CyclomaticStrict is 6\n",
      "com.softserve.td.alg.services.impl.ParenthesesServiceImpl1.generateParentheses ( int n ) CyclomaticStrict is 1\n",
      "com.softserve.td.alg.services.ParenthesesService.generateParentheses ( int n ) CyclomaticStrict is 1\n",
      "com.softserve.td.TdsandboxApplication.main ( String[] args ) CyclomaticStrict is 1\n",
      "com.softserve.td.alg.services.impl.ParenthesesServiceImpl2.generateParentheses ( int n ) CyclomaticStrict is 8\n",
      "com.softserve.td.TdsandboxApplicationTests.contextLoads (  ) CyclomaticStrict is 1\n",
      "com.softserve.td.alg.ParenthesesTests.impl1MaxNumberSupported (  ) CyclomaticStrict is 2\n",
      "com.softserve.td.alg.ParenthesesTests.impl1Works (  ) CyclomaticStrict is 1\n",
      "com.softserve.td.alg.ParenthesesTests.impl2Works (  ) CyclomaticStrict is 1\n",
      "com.softserve.td.alg.ParenthesesTests.runTestSet ( ParenthesesService service ) CyclomaticStrict is 2\n",
      "com.softserve.td.alg.rest.ParenthesesController.parentheses ( int n,String strategy ) CyclomaticStrict is 1\n"
     ]
    }
   ],
   "source": [
    "if db:\n",
    "    print_complexities(db)"
   ]
  },
  {
   "cell_type": "code",
   "execution_count": null,
   "metadata": {
    "collapsed": true
   },
   "outputs": [],
   "source": []
  }
 ],
 "metadata": {
  "kernelspec": {
   "display_name": "Python 3",
   "language": "python",
   "name": "python3"
  },
  "language_info": {
   "codemirror_mode": {
    "name": "ipython",
    "version": 3
   },
   "file_extension": ".py",
   "mimetype": "text/x-python",
   "name": "python",
   "nbconvert_exporter": "python",
   "pygments_lexer": "ipython3",
   "version": "3.5.1"
  }
 },
 "nbformat": 4,
 "nbformat_minor": 0
}
