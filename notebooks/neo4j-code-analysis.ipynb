{
 "cells": [
  {
   "cell_type": "markdown",
   "metadata": {},
   "source": [
    "```\n",
    "MATCH \n",
    "\t(file:JavaFile)-[:DEFINES]->\n",
    "\t(zk_coupled_class:JavaClass)\n",
    "\t-[zk_couple:COUPLES]->\n",
    "\t(zk_class:JavaClass) \n",
    "WHERE \n",
    "\tzk_class.name =~ '(?i)^org\\\\.zkoss.*' AND \n",
    "\tzk_coupled_class.name =~ '(?i).*report.*'\n",
    "WITH file, zk_coupled_class, zk_couple\n",
    "MATCH \n",
    "\t(file:JavaFile)-[:DEFINES]->\n",
    "\t(zk_coupled_class:JavaClass)\n",
    "\t-[db_couple:COUPLES]->\n",
    "\t(db_class:JavaClass) \n",
    "WHERE db_class.name =~ '(?i)^java\\\\.sql.*' \n",
    "RETURN DISTINCT file, zk_couple, db_couple\n",
    "```"
   ]
  },
  {
   "cell_type": "code",
   "execution_count": 1,
   "metadata": {
    "collapsed": true
   },
   "outputs": [],
   "source": [
    "import sys\n",
    "\n",
    "# add project root directory to python path to enable import of saapy\n",
    "if \"..\" not in sys.path:\n",
    "    sys.path.append('..')\n",
    "    \n",
    "import keyring\n",
    "from functools import partial\n",
    "from neo4j.v1 import GraphDatabase, basic_auth\n",
    "\n",
    "\n",
    "def neo4j_driver():\n",
    "    neo4j_service = \"test_neo4j\"\n",
    "    neo4j_user = \"neo4j\"\n",
    "    neo4j_password = keyring.get_password(neo4j_service, neo4j_user)\n",
    "    neo4j_url = \"bolt://localhost\"\n",
    "    driver = GraphDatabase.driver(neo4j_url, auth=basic_auth(neo4j_user, neo4j_password))\n",
    "    return driver"
   ]
  },
  {
   "cell_type": "code",
   "execution_count": 2,
   "metadata": {
    "collapsed": true
   },
   "outputs": [],
   "source": [
    "def run_query(tx, query, args):\n",
    "    return tx.run(query, args)\n",
    "\n",
    "class DryRunTx:\n",
    "    def __init__(self):\n",
    "        self.runs = []\n",
    "    def run(self, query, args):\n",
    "        self.runs.append((query, args))\n",
    "        \n",
    "def run_in_transaction(neo4j_driver, batch_job, dry=False):\n",
    "    if dry:\n",
    "        tx = DryRunTx()\n",
    "        dry_run = partial(run_query, tx)\n",
    "        batch_job(dry_run)\n",
    "        return tx.runs\n",
    "    else:\n",
    "        neo4j_session = neo4j_driver.session()\n",
    "        tx = neo4j_session.begin_transaction()\n",
    "        neo_run = partial(run_query, tx)\n",
    "        result_set = []\n",
    "        try:\n",
    "            result_set = batch_job(neo_run)\n",
    "        except:\n",
    "            tx.rollback()\n",
    "            from traceback import print_exc\n",
    "            print_exc(file=sys.stdout)\n",
    "        else:\n",
    "            tx.commit()\n",
    "        finally:\n",
    "            neo4j_session.close()\n",
    "            return result_set"
   ]
  },
  {
   "cell_type": "code",
   "execution_count": 4,
   "metadata": {
    "collapsed": true
   },
   "outputs": [],
   "source": [
    "driver = neo4j_driver()"
   ]
  },
  {
   "cell_type": "code",
   "execution_count": 22,
   "metadata": {
    "collapsed": true
   },
   "outputs": [],
   "source": [
    "def find_reporting_debt(run_query):\n",
    "    query = \"\"\"\n",
    "    MATCH \n",
    "        (file:JavaFile)-[:DEFINES]->\n",
    "        (zk_coupled_class:JavaClass)\n",
    "        -[zk_couple:COUPLES]->\n",
    "        (zk_class:JavaClass) \n",
    "    WHERE \n",
    "        zk_class.name =~ {zk_class_name_exp} AND \n",
    "        zk_coupled_class.name =~ {class_name_exp}\n",
    "    WITH file, zk_coupled_class, zk_couple\n",
    "    MATCH \n",
    "        (file:JavaFile)-[:DEFINES]->\n",
    "        (zk_coupled_class:JavaClass)\n",
    "        -[db_couple:COUPLES]->\n",
    "        (db_class:JavaClass) \n",
    "    WHERE db_class.name =~ {db_class_name_exp} \n",
    "    RETURN DISTINCT file, zk_couple, db_couple\n",
    "    \"\"\"\n",
    "    zk_class_name_exp = \"(?i)^org\\.zkoss.*\"\n",
    "    class_name_exp = \"(?i).*report.*\"\n",
    "    db_class_name_exp = \"(?i)^java\\.sql.*\"\n",
    "    result_set = run_query(query, {\n",
    "            \"zk_class_name_exp\": zk_class_name_exp, \n",
    "            \"db_class_name_exp\": db_class_name_exp, \n",
    "            \"class_name_exp\": class_name_exp})\n",
    "    return list(result_set)"
   ]
  },
  {
   "cell_type": "code",
   "execution_count": 23,
   "metadata": {
    "collapsed": false
   },
   "outputs": [],
   "source": [
    "result_set = run_in_transaction(driver, find_reporting_debt)"
   ]
  },
  {
   "cell_type": "markdown",
   "metadata": {},
   "source": [
    "```java\n",
    "private static String[] splitByCharacterType(final String str, final boolean camelCase) {\n",
    "        if (str == null) {\n",
    "            return null;\n",
    "        }\n",
    "        if (str.isEmpty()) {\n",
    "            return ArrayUtils.EMPTY_STRING_ARRAY;\n",
    "        }\n",
    "        final char[] c = str.toCharArray();\n",
    "        final List<String> list = new ArrayList<String>();\n",
    "        int tokenStart = 0;\n",
    "        int currentType = Character.getType(c[tokenStart]);\n",
    "        for (int pos = tokenStart + 1; pos < c.length; pos++) {\n",
    "            final int type = Character.getType(c[pos]);\n",
    "            if (type == currentType) {\n",
    "                continue;\n",
    "            }\n",
    "            if (camelCase && type == Character.LOWERCASE_LETTER && currentType == Character.UPPERCASE_LETTER) {\n",
    "                final int newTokenStart = pos - 1;\n",
    "                if (newTokenStart != tokenStart) {\n",
    "                    list.add(new String(c, tokenStart, newTokenStart - tokenStart));\n",
    "                    tokenStart = newTokenStart;\n",
    "                }\n",
    "            } else {\n",
    "                list.add(new String(c, tokenStart, pos - tokenStart));\n",
    "                tokenStart = pos;\n",
    "            }\n",
    "            currentType = type;\n",
    "        }\n",
    "        list.add(new String(c, tokenStart, c.length - tokenStart));\n",
    "        return list.toArray(new String[list.size()]);\n",
    "}\n",
    "\n",
    "StringUtils.splitByCharacterTypeCamelCase(null)         = null\n",
    "StringUtils.splitByCharacterTypeCamelCase(\"\")           = []\n",
    "StringUtils.splitByCharacterTypeCamelCase(\"ab de fg\")   = [\"ab\", \" \", \"de\", \" \", \"fg\"]\n",
    "StringUtils.splitByCharacterTypeCamelCase(\"ab   de fg\") = [\"ab\", \"   \", \"de\", \" \", \"fg\"]\n",
    "StringUtils.splitByCharacterTypeCamelCase(\"ab:cd:ef\")   = [\"ab\", \":\", \"cd\", \":\", \"ef\"]\n",
    "StringUtils.splitByCharacterTypeCamelCase(\"number5\")    = [\"number\", \"5\"]\n",
    "StringUtils.splitByCharacterTypeCamelCase(\"fooBar\")     = [\"foo\", \"Bar\"]\n",
    "StringUtils.splitByCharacterTypeCamelCase(\"foo200Bar\")  = [\"foo\", \"200\", \"Bar\"]\n",
    "StringUtils.splitByCharacterTypeCamelCase(\"ASFRules\")   = [\"ASF\", \"Rules\"]\n",
    "```"
   ]
  },
  {
   "cell_type": "code",
   "execution_count": 54,
   "metadata": {
    "collapsed": false
   },
   "outputs": [
    {
     "name": "stdout",
     "output_type": "stream",
     "text": [
      "[]\n",
      "[]\n",
      "['ab', ' ', 'de', ' ', 'fg']\n",
      "['ab', '   ', 'de', ' ', 'fg']\n",
      "['ab', ':', 'cd', ':', 'ef']\n",
      "['number', '5']\n",
      "['foo', 'Bar']\n",
      "['foo', '200', 'Bar']\n",
      "['ASF', 'Rules']\n"
     ]
    }
   ],
   "source": [
    "def split_by_character_type(s, camel=True):\n",
    "    if not s:\n",
    "        return []\n",
    "    parts = []\n",
    "    token_start = 0\n",
    "    for pos in range(1, len(s)):\n",
    "        if ((s[pos].islower() and s[pos-1].islower()) or\n",
    "            (s[pos].isupper() and s[pos-1].isupper()) or\n",
    "            (s[pos].isdigit() and s[pos-1].isdigit()) or\n",
    "            (not s[pos].isalnum() and not s[pos-1].isalnum())):\n",
    "            continue\n",
    "        if camel and s[pos].islower() and s[pos-1].isupper():\n",
    "            new_token_start = pos - 1\n",
    "            if new_token_start != token_start:\n",
    "                parts.append(s[token_start: new_token_start])\n",
    "                token_start = new_token_start\n",
    "        else:\n",
    "            parts.append(s[token_start: pos])\n",
    "            token_start = pos\n",
    "    parts.append(s[token_start: len(s)])\n",
    "    return parts\n",
    "    \n",
    "ss = [None, \"\", \"ab de fg\", \"ab   de fg\", \"ab:cd:ef\", \"number5\", \"fooBar\", \"foo200Bar\", \"ASFRules\"]\n",
    "\n",
    "for s in ss:\n",
    "    print(split_by_character_type(s))"
   ]
  },
  {
   "cell_type": "code",
   "execution_count": 55,
   "metadata": {
    "collapsed": false
   },
   "outputs": [],
   "source": [
    "def find_class_names(run_query):\n",
    "    query = \"\"\"\n",
    "    MATCH (class:JavaClass)\n",
    "    RETURN class.name as class_name\n",
    "    \"\"\"\n",
    "    result_set = run_query(query, {})\n",
    "    return list(result_set)"
   ]
  },
  {
   "cell_type": "code",
   "execution_count": 56,
   "metadata": {
    "collapsed": true
   },
   "outputs": [],
   "source": [
    "class_name_result_set = run_in_transaction(driver, find_class_names)"
   ]
  },
  {
   "cell_type": "code",
   "execution_count": 60,
   "metadata": {
    "collapsed": false
   },
   "outputs": [
    {
     "data": {
      "text/plain": [
       "'org.compiere.grid.DefaultPaymentFormFactory'"
      ]
     },
     "execution_count": 60,
     "metadata": {},
     "output_type": "execute_result"
    }
   ],
   "source": [
    "class_name_result_set[0][\"class_name\"]"
   ]
  },
  {
   "cell_type": "code",
   "execution_count": 61,
   "metadata": {
    "collapsed": false
   },
   "outputs": [
    {
     "data": {
      "text/plain": [
       "['org',\n",
       " '.',\n",
       " 'compiere',\n",
       " '.',\n",
       " 'grid',\n",
       " '.',\n",
       " 'Default',\n",
       " 'Payment',\n",
       " 'Form',\n",
       " 'Factory']"
      ]
     },
     "execution_count": 61,
     "metadata": {},
     "output_type": "execute_result"
    }
   ],
   "source": [
    "split_by_character_type(class_name_result_set[0][\"class_name\"])"
   ]
  },
  {
   "cell_type": "code",
   "execution_count": 62,
   "metadata": {
    "collapsed": false
   },
   "outputs": [
    {
     "data": {
      "text/plain": [
       "['org.compiere.grid', 'DefaultPaymentFormFactory']"
      ]
     },
     "execution_count": 62,
     "metadata": {},
     "output_type": "execute_result"
    }
   ],
   "source": [
    "s = class_name_result_set[0][\"class_name\"]\n",
    "\n",
    "s.rsplit('.', 1)"
   ]
  },
  {
   "cell_type": "code",
   "execution_count": 65,
   "metadata": {
    "collapsed": false
   },
   "outputs": [],
   "source": [
    "from collections import namedtuple\n",
    "\n",
    "ClassName = namedtuple(\"ClassName\", [\"long_name\", \"package_name\", \"class_name\", \"name_parts\"])\n",
    "\n",
    "class_names = []\n",
    "for r in class_name_result_set:\n",
    "    long_name = r[\"class_name\"]\n",
    "    package_class = long_name.rsplit('.', 1)\n",
    "    name_parts = split_by_character_type(package_class[-1])\n",
    "    class_names.append(ClassName(\n",
    "            long_name=long_name,\n",
    "            package_name=package_class[0] if len(package_class) == 2 else \"\",\n",
    "            class_name=package_class[-1],\n",
    "            name_parts=name_parts\n",
    "        ))"
   ]
  },
  {
   "cell_type": "code",
   "execution_count": 75,
   "metadata": {
    "collapsed": false
   },
   "outputs": [],
   "source": [
    "terms = set()\n",
    "for cn in class_names:\n",
    "    terms.update(cn.name_parts)\n",
    "    # terms.add(cn.name_parts[-1])"
   ]
  },
  {
   "cell_type": "code",
   "execution_count": 86,
   "metadata": {
    "collapsed": false
   },
   "outputs": [],
   "source": [
    "from itertools import chain\n",
    "from collections import Counter\n",
    "\n",
    "counter = Counter(chain.from_iterable([[np.casefold() for np in cn.name_parts] for cn in class_names]))"
   ]
  },
  {
   "cell_type": "code",
   "execution_count": 88,
   "metadata": {
    "collapsed": false
   },
   "outputs": [
    {
     "data": {
      "text/plain": [
       "70"
      ]
     },
     "execution_count": 88,
     "metadata": {},
     "output_type": "execute_result"
    }
   ],
   "source": [
    "counter[\"report\"]"
   ]
  },
  {
   "cell_type": "code",
   "execution_count": 89,
   "metadata": {
    "collapsed": true
   },
   "outputs": [],
   "source": [
    "def build_class_name_vocabulary(class_names, run_query):\n",
    "    for cn in class_names:\n",
    "        for order, np in enumerate(cn.name_parts):\n",
    "            query = \"\"\"\n",
    "            MATCH (class: JavaClass {name: {long_name}})\n",
    "            MERGE (l:Lexem {name: {name_part}})\n",
    "            CREATE (class)-[:CONTAINS {part_order: {part_order}}]->(l)\n",
    "            \"\"\"\n",
    "            run_query(query, {\n",
    "                    \"long_name\": cn.long_name,\n",
    "                    \"name_part\": np,\n",
    "                    \"part_order\": order\n",
    "                })"
   ]
  },
  {
   "cell_type": "code",
   "execution_count": 93,
   "metadata": {
    "collapsed": false
   },
   "outputs": [],
   "source": [
    "batch_job = partial(build_class_name_vocabulary, class_names)\n",
    "result = run_in_transaction(driver, batch_job, dry=True)"
   ]
  },
  {
   "cell_type": "markdown",
   "metadata": {},
   "source": [
    "```\n",
    "MATCH (class:JavaClass)<-[:CONTAINS]-(package:JavaPackage)\n",
    "WHERE \n",
    "    package.name STARTS WITH 'org.adempiere' OR\n",
    "    package.name STARTS WITH 'org.compiere' OR\n",
    "    package.name STARTS WITH 'org.idempiere'\n",
    "WITH class\n",
    "MATCH (class)-[c:CONTAINS]->(l:Lexem)\n",
    "WHERE l.name STARTS WITH 'Report'\n",
    "RETURN c\n",
    "```"
   ]
  },
  {
   "cell_type": "markdown",
   "metadata": {},
   "source": [
    "```\n",
    "MATCH (class:JavaClass)<-[:CONTAINS]-(package:JavaPackage)\n",
    "WHERE \n",
    "    package.name STARTS WITH 'org.adempiere' OR\n",
    "    package.name STARTS WITH 'org.compiere' OR\n",
    "    package.name STARTS WITH 'org.idempiere'\n",
    "WITH class\n",
    "MATCH (class)-[c:CONTAINS]->(l:Lexem)\n",
    "WHERE l.name STARTS WITH 'Report'\n",
    "WITH class\n",
    "MATCH (class)-[cp:COUPLES]->(coupled_class:JavaClass)\n",
    "WITH class, coupled_class\n",
    "MATCH (coupled_class)-[cp:COUPLES]->(class)\n",
    "RETURN cp\n",
    "```"
   ]
  },
  {
   "cell_type": "code",
   "execution_count": 3,
   "metadata": {
    "collapsed": false
   },
   "outputs": [
    {
     "name": "stdout",
     "output_type": "stream",
     "text": [
      "q1 {}\n",
      "q2 {'k': 'v'}\n",
      "q3 {'k2': 'v2', 'k1': 'v1'}\n",
      "q1 {}\n",
      "q2 {'k': 'v'}\n",
      "q3 {'k2': 'v2', 'k1': 'v1'}\n",
      "[('q1', {}), ('q2', {'k': 'v'}), ('q3', {'k2': 'v2', 'k1': 'v1'})]\n"
     ]
    }
   ],
   "source": [
    "def bj():\n",
    "    yield \"q1\", {}\n",
    "    yield \"q2\", dict(k=\"v\")\n",
    "    yield \"q3\", {\"k1\": \"v1\", \"k2\": \"v2\"}\n",
    "    \n",
    "for q, p in bj():\n",
    "    print(q, p)\n",
    "    \n",
    "for q, p in bj():\n",
    "    print(q, p)\n",
    "    \n",
    "print(list(bj()))"
   ]
  },
  {
   "cell_type": "code",
   "execution_count": 5,
   "metadata": {
    "collapsed": false
   },
   "outputs": [
    {
     "name": "stdout",
     "output_type": "stream",
     "text": [
      "Help on class function in module builtins:\n",
      "\n",
      "class function(object)\n",
      " |  function(code, globals[, name[, argdefs[, closure]]])\n",
      " |  \n",
      " |  Create a function object from a code object and a dictionary.\n",
      " |  The optional name string overrides the name from the code object.\n",
      " |  The optional argdefs tuple specifies the default argument values.\n",
      " |  The optional closure tuple supplies the bindings for free variables.\n",
      " |  \n",
      " |  Methods defined here:\n",
      " |  \n",
      " |  __call__(self, /, *args, **kwargs)\n",
      " |      Call self as a function.\n",
      " |  \n",
      " |  __get__(self, instance, owner, /)\n",
      " |      Return an attribute of instance, which is of type owner.\n",
      " |  \n",
      " |  __new__(*args, **kwargs) from builtins.type\n",
      " |      Create and return a new object.  See help(type) for accurate signature.\n",
      " |  \n",
      " |  __repr__(self, /)\n",
      " |      Return repr(self).\n",
      " |  \n",
      " |  ----------------------------------------------------------------------\n",
      " |  Data descriptors defined here:\n",
      " |  \n",
      " |  __annotations__\n",
      " |  \n",
      " |  __closure__\n",
      " |  \n",
      " |  __code__\n",
      " |  \n",
      " |  __defaults__\n",
      " |  \n",
      " |  __dict__\n",
      " |  \n",
      " |  __globals__\n",
      " |  \n",
      " |  __kwdefaults__\n",
      "\n"
     ]
    }
   ],
   "source": [
    "help(type(bj))"
   ]
  },
  {
   "cell_type": "code",
   "execution_count": 7,
   "metadata": {
    "collapsed": false
   },
   "outputs": [
    {
     "name": "stdout",
     "output_type": "stream",
     "text": [
      "Help on class list in module builtins:\n",
      "\n",
      "class list(object)\n",
      " |  list() -> new empty list\n",
      " |  list(iterable) -> new list initialized from iterable's items\n",
      " |  \n",
      " |  Methods defined here:\n",
      " |  \n",
      " |  __add__(self, value, /)\n",
      " |      Return self+value.\n",
      " |  \n",
      " |  __contains__(self, key, /)\n",
      " |      Return key in self.\n",
      " |  \n",
      " |  __delitem__(self, key, /)\n",
      " |      Delete self[key].\n",
      " |  \n",
      " |  __eq__(self, value, /)\n",
      " |      Return self==value.\n",
      " |  \n",
      " |  __ge__(self, value, /)\n",
      " |      Return self>=value.\n",
      " |  \n",
      " |  __getattribute__(self, name, /)\n",
      " |      Return getattr(self, name).\n",
      " |  \n",
      " |  __getitem__(...)\n",
      " |      x.__getitem__(y) <==> x[y]\n",
      " |  \n",
      " |  __gt__(self, value, /)\n",
      " |      Return self>value.\n",
      " |  \n",
      " |  __iadd__(self, value, /)\n",
      " |      Implement self+=value.\n",
      " |  \n",
      " |  __imul__(self, value, /)\n",
      " |      Implement self*=value.\n",
      " |  \n",
      " |  __init__(self, /, *args, **kwargs)\n",
      " |      Initialize self.  See help(type(self)) for accurate signature.\n",
      " |  \n",
      " |  __iter__(self, /)\n",
      " |      Implement iter(self).\n",
      " |  \n",
      " |  __le__(self, value, /)\n",
      " |      Return self<=value.\n",
      " |  \n",
      " |  __len__(self, /)\n",
      " |      Return len(self).\n",
      " |  \n",
      " |  __lt__(self, value, /)\n",
      " |      Return self<value.\n",
      " |  \n",
      " |  __mul__(self, value, /)\n",
      " |      Return self*value.n\n",
      " |  \n",
      " |  __ne__(self, value, /)\n",
      " |      Return self!=value.\n",
      " |  \n",
      " |  __new__(*args, **kwargs) from builtins.type\n",
      " |      Create and return a new object.  See help(type) for accurate signature.\n",
      " |  \n",
      " |  __repr__(self, /)\n",
      " |      Return repr(self).\n",
      " |  \n",
      " |  __reversed__(...)\n",
      " |      L.__reversed__() -- return a reverse iterator over the list\n",
      " |  \n",
      " |  __rmul__(self, value, /)\n",
      " |      Return self*value.\n",
      " |  \n",
      " |  __setitem__(self, key, value, /)\n",
      " |      Set self[key] to value.\n",
      " |  \n",
      " |  __sizeof__(...)\n",
      " |      L.__sizeof__() -- size of L in memory, in bytes\n",
      " |  \n",
      " |  append(...)\n",
      " |      L.append(object) -> None -- append object to end\n",
      " |  \n",
      " |  clear(...)\n",
      " |      L.clear() -> None -- remove all items from L\n",
      " |  \n",
      " |  copy(...)\n",
      " |      L.copy() -> list -- a shallow copy of L\n",
      " |  \n",
      " |  count(...)\n",
      " |      L.count(value) -> integer -- return number of occurrences of value\n",
      " |  \n",
      " |  extend(...)\n",
      " |      L.extend(iterable) -> None -- extend list by appending elements from the iterable\n",
      " |  \n",
      " |  index(...)\n",
      " |      L.index(value, [start, [stop]]) -> integer -- return first index of value.\n",
      " |      Raises ValueError if the value is not present.\n",
      " |  \n",
      " |  insert(...)\n",
      " |      L.insert(index, object) -- insert object before index\n",
      " |  \n",
      " |  pop(...)\n",
      " |      L.pop([index]) -> item -- remove and return item at index (default last).\n",
      " |      Raises IndexError if list is empty or index is out of range.\n",
      " |  \n",
      " |  remove(...)\n",
      " |      L.remove(value) -> None -- remove first occurrence of value.\n",
      " |      Raises ValueError if the value is not present.\n",
      " |  \n",
      " |  reverse(...)\n",
      " |      L.reverse() -- reverse *IN PLACE*\n",
      " |  \n",
      " |  sort(...)\n",
      " |      L.sort(key=None, reverse=False) -> None -- stable sort *IN PLACE*\n",
      " |  \n",
      " |  ----------------------------------------------------------------------\n",
      " |  Data and other attributes defined here:\n",
      " |  \n",
      " |  __hash__ = None\n",
      "\n"
     ]
    }
   ],
   "source": [
    "help(type(list()))"
   ]
  },
  {
   "cell_type": "code",
   "execution_count": 11,
   "metadata": {
    "collapsed": false
   },
   "outputs": [
    {
     "name": "stdout",
     "output_type": "stream",
     "text": [
      "True\n",
      "False\n",
      "False\n",
      "True\n"
     ]
    }
   ],
   "source": [
    "from collections import Iterable, Callable\n",
    "\n",
    "print(isinstance(list(), Iterable))\n",
    "print(isinstance(list(), Callable))\n",
    "print(isinstance(bj, Iterable))\n",
    "print(isinstance(bj, Callable))"
   ]
  },
  {
   "cell_type": "code",
   "execution_count": 22,
   "metadata": {
    "collapsed": false
   },
   "outputs": [
    {
     "name": "stdout",
     "output_type": "stream",
     "text": [
      "start chunk\n",
      "v: 0\n",
      "prior: 0\n",
      "v: 1\n",
      "prior: 1\n",
      "v: 2\n",
      "prior: 2\n",
      "v: 3\n",
      "prior: 3\n",
      "v: 4\n",
      "prior: 4\n",
      "v: 5\n",
      "prior: 5\n",
      "v: 6\n",
      "prior: 6\n",
      "v: 7\n",
      "prior: 7\n",
      "v: 8\n",
      "prior: 8\n",
      "v: 9\n",
      "end chunk\n",
      "start chunk\n",
      "prior: 9\n",
      "v: 10\n",
      "prior: 10\n",
      "v: 11\n",
      "prior: 11\n",
      "v: 12\n",
      "prior: 12\n",
      "v: 13\n",
      "prior: 13\n",
      "v: 14\n",
      "prior: 14\n",
      "v: 15\n",
      "prior: 15\n",
      "v: 16\n",
      "prior: 16\n",
      "v: 17\n",
      "prior: 17\n",
      "v: 18\n",
      "prior: 18\n",
      "v: 19\n",
      "end chunk\n",
      "start chunk\n",
      "prior: 19\n",
      "v: 20\n",
      "prior: 20\n",
      "v: 21\n",
      "prior: 21\n",
      "v: 22\n",
      "prior: 22\n",
      "v: 23\n",
      "prior: 23\n",
      "v: 24\n",
      "prior: 24\n",
      "end chunk\n"
     ]
    }
   ],
   "source": [
    "def bj1():\n",
    "    for v in range(25):\n",
    "        prior = (yield v)\n",
    "        print('prior:', prior)\n",
    "\n",
    "it = bj1()\n",
    "v = None\n",
    "try:\n",
    "    while True:\n",
    "        print(\"start chunk\")\n",
    "        i = 0\n",
    "        while i < 10:\n",
    "            v = it.send(v)\n",
    "            print(\"v:\", v)\n",
    "            i += 1\n",
    "        print(\"end chunk\")\n",
    "except StopIteration: \n",
    "    print(\"end chunk\")"
   ]
  },
  {
   "cell_type": "code",
   "execution_count": null,
   "metadata": {
    "collapsed": true
   },
   "outputs": [],
   "source": []
  }
 ],
 "metadata": {
  "kernelspec": {
   "display_name": "Python 3",
   "language": "python",
   "name": "python3"
  },
  "language_info": {
   "codemirror_mode": {
    "name": "ipython",
    "version": 3
   },
   "file_extension": ".py",
   "mimetype": "text/x-python",
   "name": "python",
   "nbconvert_exporter": "python",
   "pygments_lexer": "ipython3",
   "version": "3.5.1"
  }
 },
 "nbformat": 4,
 "nbformat_minor": 0
}
