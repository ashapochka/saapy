{
 "cells": [
  {
   "cell_type": "markdown",
   "metadata": {},
   "source": [
    "```\n",
    "MATCH \n",
    "\t(file:JavaFile)-[:DEFINES]->\n",
    "\t(zk_coupled_class:JavaClass)\n",
    "\t-[zk_couple:COUPLES]->\n",
    "\t(zk_class:JavaClass) \n",
    "WHERE \n",
    "\tzk_class.name =~ '(?i)^org\\\\.zkoss.*' AND \n",
    "\tzk_coupled_class.name =~ '(?i).*report.*'\n",
    "WITH file, zk_coupled_class, zk_couple\n",
    "MATCH \n",
    "\t(file:JavaFile)-[:DEFINES]->\n",
    "\t(zk_coupled_class:JavaClass)\n",
    "\t-[db_couple:COUPLES]->\n",
    "\t(db_class:JavaClass) \n",
    "WHERE db_class.name =~ '(?i)^java\\\\.sql.*' \n",
    "RETURN DISTINCT file, zk_couple, db_couple\n",
    "```"
   ]
  },
  {
   "cell_type": "code",
   "execution_count": 1,
   "metadata": {
    "collapsed": true
   },
   "outputs": [],
   "source": [
    "import sys\n",
    "\n",
    "# add project root directory to python path to enable import of saapy\n",
    "if \"..\" not in sys.path:\n",
    "    sys.path.append('..')\n",
    "    \n",
    "import keyring\n",
    "from functools import partial\n",
    "from neo4j.v1 import GraphDatabase, basic_auth\n",
    "\n",
    "\n",
    "def neo4j_driver():\n",
    "    neo4j_service = \"test_neo4j\"\n",
    "    neo4j_user = \"neo4j\"\n",
    "    neo4j_password = keyring.get_password(neo4j_service, neo4j_user)\n",
    "    neo4j_url = \"bolt://localhost\"\n",
    "    driver = GraphDatabase.driver(neo4j_url, auth=basic_auth(neo4j_user, neo4j_password))\n",
    "    return driver"
   ]
  },
  {
   "cell_type": "code",
   "execution_count": 2,
   "metadata": {
    "collapsed": true
   },
   "outputs": [],
   "source": [
    "def run_query(tx, query, args):\n",
    "    return tx.run(query, args)\n",
    "\n",
    "class DryRunTx:\n",
    "    def __init__(self):\n",
    "        self.runs = []\n",
    "    def run(self, query, args):\n",
    "        self.runs.append((query, args))\n",
    "        \n",
    "def run_in_transaction(neo4j_driver, batch_job, dry=False):\n",
    "    if dry:\n",
    "        tx = DryRunTx()\n",
    "        dry_run = partial(run_query, tx)\n",
    "        batch_job(dry_run)\n",
    "        return tx.runs\n",
    "    else:\n",
    "        neo4j_session = neo4j_driver.session()\n",
    "        tx = neo4j_session.begin_transaction()\n",
    "        neo_run = partial(run_query, tx)\n",
    "        result_set = []\n",
    "        try:\n",
    "            result_set = batch_job(neo_run)\n",
    "        except:\n",
    "            tx.rollback()\n",
    "            from traceback import print_exc\n",
    "            print_exc(file=sys.stdout)\n",
    "        else:\n",
    "            tx.commit()\n",
    "        finally:\n",
    "            neo4j_session.close()\n",
    "            return result_set"
   ]
  },
  {
   "cell_type": "code",
   "execution_count": 4,
   "metadata": {
    "collapsed": true
   },
   "outputs": [],
   "source": [
    "driver = neo4j_driver()"
   ]
  },
  {
   "cell_type": "code",
   "execution_count": 22,
   "metadata": {
    "collapsed": true
   },
   "outputs": [],
   "source": [
    "def find_reporting_debt(run_query):\n",
    "    query = \"\"\"\n",
    "    MATCH \n",
    "        (file:JavaFile)-[:DEFINES]->\n",
    "        (zk_coupled_class:JavaClass)\n",
    "        -[zk_couple:COUPLES]->\n",
    "        (zk_class:JavaClass) \n",
    "    WHERE \n",
    "        zk_class.name =~ {zk_class_name_exp} AND \n",
    "        zk_coupled_class.name =~ {class_name_exp}\n",
    "    WITH file, zk_coupled_class, zk_couple\n",
    "    MATCH \n",
    "        (file:JavaFile)-[:DEFINES]->\n",
    "        (zk_coupled_class:JavaClass)\n",
    "        -[db_couple:COUPLES]->\n",
    "        (db_class:JavaClass) \n",
    "    WHERE db_class.name =~ {db_class_name_exp} \n",
    "    RETURN DISTINCT file, zk_couple, db_couple\n",
    "    \"\"\"\n",
    "    zk_class_name_exp = \"(?i)^org\\.zkoss.*\"\n",
    "    class_name_exp = \"(?i).*report.*\"\n",
    "    db_class_name_exp = \"(?i)^java\\.sql.*\"\n",
    "    result_set = run_query(query, {\n",
    "            \"zk_class_name_exp\": zk_class_name_exp, \n",
    "            \"db_class_name_exp\": db_class_name_exp, \n",
    "            \"class_name_exp\": class_name_exp})\n",
    "    return list(result_set)"
   ]
  },
  {
   "cell_type": "code",
   "execution_count": 23,
   "metadata": {
    "collapsed": false
   },
   "outputs": [],
   "source": [
    "result_set = run_in_transaction(driver, find_reporting_debt)"
   ]
  },
  {
   "cell_type": "markdown",
   "metadata": {},
   "source": [
    "```java\n",
    "private static String[] splitByCharacterType(final String str, final boolean camelCase) {\n",
    "        if (str == null) {\n",
    "            return null;\n",
    "        }\n",
    "        if (str.isEmpty()) {\n",
    "            return ArrayUtils.EMPTY_STRING_ARRAY;\n",
    "        }\n",
    "        final char[] c = str.toCharArray();\n",
    "        final List<String> list = new ArrayList<String>();\n",
    "        int tokenStart = 0;\n",
    "        int currentType = Character.getType(c[tokenStart]);\n",
    "        for (int pos = tokenStart + 1; pos < c.length; pos++) {\n",
    "            final int type = Character.getType(c[pos]);\n",
    "            if (type == currentType) {\n",
    "                continue;\n",
    "            }\n",
    "            if (camelCase && type == Character.LOWERCASE_LETTER && currentType == Character.UPPERCASE_LETTER) {\n",
    "                final int newTokenStart = pos - 1;\n",
    "                if (newTokenStart != tokenStart) {\n",
    "                    list.add(new String(c, tokenStart, newTokenStart - tokenStart));\n",
    "                    tokenStart = newTokenStart;\n",
    "                }\n",
    "            } else {\n",
    "                list.add(new String(c, tokenStart, pos - tokenStart));\n",
    "                tokenStart = pos;\n",
    "            }\n",
    "            currentType = type;\n",
    "        }\n",
    "        list.add(new String(c, tokenStart, c.length - tokenStart));\n",
    "        return list.toArray(new String[list.size()]);\n",
    "}\n",
    "\n",
    "StringUtils.splitByCharacterTypeCamelCase(null)         = null\n",
    "StringUtils.splitByCharacterTypeCamelCase(\"\")           = []\n",
    "StringUtils.splitByCharacterTypeCamelCase(\"ab de fg\")   = [\"ab\", \" \", \"de\", \" \", \"fg\"]\n",
    "StringUtils.splitByCharacterTypeCamelCase(\"ab   de fg\") = [\"ab\", \"   \", \"de\", \" \", \"fg\"]\n",
    "StringUtils.splitByCharacterTypeCamelCase(\"ab:cd:ef\")   = [\"ab\", \":\", \"cd\", \":\", \"ef\"]\n",
    "StringUtils.splitByCharacterTypeCamelCase(\"number5\")    = [\"number\", \"5\"]\n",
    "StringUtils.splitByCharacterTypeCamelCase(\"fooBar\")     = [\"foo\", \"Bar\"]\n",
    "StringUtils.splitByCharacterTypeCamelCase(\"foo200Bar\")  = [\"foo\", \"200\", \"Bar\"]\n",
    "StringUtils.splitByCharacterTypeCamelCase(\"ASFRules\")   = [\"ASF\", \"Rules\"]\n",
    "```"
   ]
  },
  {
   "cell_type": "code",
   "execution_count": 54,
   "metadata": {
    "collapsed": false
   },
   "outputs": [
    {
     "name": "stdout",
     "output_type": "stream",
     "text": [
      "[]\n",
      "[]\n",
      "['ab', ' ', 'de', ' ', 'fg']\n",
      "['ab', '   ', 'de', ' ', 'fg']\n",
      "['ab', ':', 'cd', ':', 'ef']\n",
      "['number', '5']\n",
      "['foo', 'Bar']\n",
      "['foo', '200', 'Bar']\n",
      "['ASF', 'Rules']\n"
     ]
    }
   ],
   "source": [
    "def split_by_character_type(s, camel=True):\n",
    "    if not s:\n",
    "        return []\n",
    "    parts = []\n",
    "    token_start = 0\n",
    "    for pos in range(1, len(s)):\n",
    "        if ((s[pos].islower() and s[pos-1].islower()) or\n",
    "            (s[pos].isupper() and s[pos-1].isupper()) or\n",
    "            (s[pos].isdigit() and s[pos-1].isdigit()) or\n",
    "            (not s[pos].isalnum() and not s[pos-1].isalnum())):\n",
    "            continue\n",
    "        if camel and s[pos].islower() and s[pos-1].isupper():\n",
    "            new_token_start = pos - 1\n",
    "            if new_token_start != token_start:\n",
    "                parts.append(s[token_start: new_token_start])\n",
    "                token_start = new_token_start\n",
    "        else:\n",
    "            parts.append(s[token_start: pos])\n",
    "            token_start = pos\n",
    "    parts.append(s[token_start: len(s)])\n",
    "    return parts\n",
    "    \n",
    "ss = [None, \"\", \"ab de fg\", \"ab   de fg\", \"ab:cd:ef\", \"number5\", \"fooBar\", \"foo200Bar\", \"ASFRules\"]\n",
    "\n",
    "for s in ss:\n",
    "    print(split_by_character_type(s))"
   ]
  },
  {
   "cell_type": "code",
   "execution_count": 55,
   "metadata": {
    "collapsed": false
   },
   "outputs": [],
   "source": [
    "def find_class_names(run_query):\n",
    "    query = \"\"\"\n",
    "    MATCH (class:JavaClass)\n",
    "    RETURN class.name as class_name\n",
    "    \"\"\"\n",
    "    result_set = run_query(query, {})\n",
    "    return list(result_set)"
   ]
  },
  {
   "cell_type": "code",
   "execution_count": 56,
   "metadata": {
    "collapsed": true
   },
   "outputs": [],
   "source": [
    "class_name_result_set = run_in_transaction(driver, find_class_names)"
   ]
  },
  {
   "cell_type": "code",
   "execution_count": 60,
   "metadata": {
    "collapsed": false
   },
   "outputs": [
    {
     "data": {
      "text/plain": [
       "'org.compiere.grid.DefaultPaymentFormFactory'"
      ]
     },
     "execution_count": 60,
     "metadata": {},
     "output_type": "execute_result"
    }
   ],
   "source": [
    "class_name_result_set[0][\"class_name\"]"
   ]
  },
  {
   "cell_type": "code",
   "execution_count": 61,
   "metadata": {
    "collapsed": false
   },
   "outputs": [
    {
     "data": {
      "text/plain": [
       "['org',\n",
       " '.',\n",
       " 'compiere',\n",
       " '.',\n",
       " 'grid',\n",
       " '.',\n",
       " 'Default',\n",
       " 'Payment',\n",
       " 'Form',\n",
       " 'Factory']"
      ]
     },
     "execution_count": 61,
     "metadata": {},
     "output_type": "execute_result"
    }
   ],
   "source": [
    "split_by_character_type(class_name_result_set[0][\"class_name\"])"
   ]
  },
  {
   "cell_type": "code",
   "execution_count": 62,
   "metadata": {
    "collapsed": false
   },
   "outputs": [
    {
     "data": {
      "text/plain": [
       "['org.compiere.grid', 'DefaultPaymentFormFactory']"
      ]
     },
     "execution_count": 62,
     "metadata": {},
     "output_type": "execute_result"
    }
   ],
   "source": [
    "s = class_name_result_set[0][\"class_name\"]\n",
    "\n",
    "s.rsplit('.', 1)"
   ]
  },
  {
   "cell_type": "code",
   "execution_count": 65,
   "metadata": {
    "collapsed": false
   },
   "outputs": [],
   "source": [
    "from collections import namedtuple\n",
    "\n",
    "ClassName = namedtuple(\"ClassName\", [\"long_name\", \"package_name\", \"class_name\", \"name_parts\"])\n",
    "\n",
    "class_names = []\n",
    "for r in class_name_result_set:\n",
    "    long_name = r[\"class_name\"]\n",
    "    package_class = long_name.rsplit('.', 1)\n",
    "    name_parts = split_by_character_type(package_class[-1])\n",
    "    class_names.append(ClassName(\n",
    "            long_name=long_name,\n",
    "            package_name=package_class[0] if len(package_class) == 2 else \"\",\n",
    "            class_name=package_class[-1],\n",
    "            name_parts=name_parts\n",
    "        ))"
   ]
  },
  {
   "cell_type": "code",
   "execution_count": 75,
   "metadata": {
    "collapsed": false
   },
   "outputs": [],
   "source": [
    "terms = set()\n",
    "for cn in class_names:\n",
    "    terms.update(cn.name_parts)\n",
    "    # terms.add(cn.name_parts[-1])"
   ]
  },
  {
   "cell_type": "code",
   "execution_count": 86,
   "metadata": {
    "collapsed": false
   },
   "outputs": [],
   "source": [
    "from itertools import chain\n",
    "from collections import Counter\n",
    "\n",
    "counter = Counter(chain.from_iterable([[np.casefold() for np in cn.name_parts] for cn in class_names]))"
   ]
  },
  {
   "cell_type": "code",
   "execution_count": 88,
   "metadata": {
    "collapsed": false
   },
   "outputs": [
    {
     "data": {
      "text/plain": [
       "70"
      ]
     },
     "execution_count": 88,
     "metadata": {},
     "output_type": "execute_result"
    }
   ],
   "source": [
    "counter[\"report\"]"
   ]
  },
  {
   "cell_type": "code",
   "execution_count": 89,
   "metadata": {
    "collapsed": true
   },
   "outputs": [],
   "source": [
    "def build_class_name_vocabulary(class_names, run_query):\n",
    "    for cn in class_names:\n",
    "        for order, np in enumerate(cn.name_parts):\n",
    "            query = \"\"\"\n",
    "            MATCH (class: JavaClass {name: {long_name}})\n",
    "            MERGE (l:Lexem {name: {name_part}})\n",
    "            CREATE (class)-[:CONTAINS {part_order: {part_order}}]->(l)\n",
    "            \"\"\"\n",
    "            run_query(query, {\n",
    "                    \"long_name\": cn.long_name,\n",
    "                    \"name_part\": np,\n",
    "                    \"part_order\": order\n",
    "                })"
   ]
  },
  {
   "cell_type": "code",
   "execution_count": 93,
   "metadata": {
    "collapsed": false
   },
   "outputs": [],
   "source": [
    "batch_job = partial(build_class_name_vocabulary, class_names)\n",
    "result = run_in_transaction(driver, batch_job, dry=True)"
   ]
  },
  {
   "cell_type": "markdown",
   "metadata": {},
   "source": [
    "```\n",
    "MATCH (class:JavaClass)<-[:CONTAINS]-(package:JavaPackage)\n",
    "WHERE \n",
    "    package.name STARTS WITH 'org.adempiere' OR\n",
    "    package.name STARTS WITH 'org.compiere' OR\n",
    "    package.name STARTS WITH 'org.idempiere'\n",
    "WITH class\n",
    "MATCH (class)-[c:CONTAINS]->(l:Lexem)\n",
    "WHERE l.name STARTS WITH 'Report'\n",
    "RETURN c\n",
    "```"
   ]
  },
  {
   "cell_type": "markdown",
   "metadata": {},
   "source": [
    "```\n",
    "MATCH (class:JavaClass)<-[:CONTAINS]-(package:JavaPackage)\n",
    "WHERE \n",
    "    package.name STARTS WITH 'org.adempiere' OR\n",
    "    package.name STARTS WITH 'org.compiere' OR\n",
    "    package.name STARTS WITH 'org.idempiere'\n",
    "WITH class\n",
    "MATCH (class)-[c:CONTAINS]->(l:Lexem)\n",
    "WHERE l.name STARTS WITH 'Report'\n",
    "WITH class\n",
    "MATCH (class)-[cp:COUPLES]->(coupled_class:JavaClass)\n",
    "WITH class, coupled_class\n",
    "MATCH (coupled_class)-[cp:COUPLES]->(class)\n",
    "RETURN cp\n",
    "```"
   ]
  },
  {
   "cell_type": "code",
   "execution_count": null,
   "metadata": {
    "collapsed": true
   },
   "outputs": [],
   "source": []
  },
  {
   "cell_type": "code",
   "execution_count": null,
   "metadata": {
    "collapsed": true
   },
   "outputs": [],
   "source": []
  }
 ],
 "metadata": {
  "kernelspec": {
   "display_name": "Python 3",
   "language": "python",
   "name": "python3"
  },
  "language_info": {
   "codemirror_mode": {
    "name": "ipython",
    "version": 3
   },
   "file_extension": ".py",
   "mimetype": "text/x-python",
   "name": "python",
   "nbconvert_exporter": "python",
   "pygments_lexer": "ipython3",
   "version": "3.5.1"
  }
 },
 "nbformat": 4,
 "nbformat_minor": 0
}
