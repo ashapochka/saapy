{
 "cells": [
  {
   "cell_type": "code",
   "execution_count": 24,
   "metadata": {
    "ExecuteTime": {
     "end_time": "2017-07-08T13:49:11.660165Z",
     "start_time": "2017-07-08T13:49:11.655845Z"
    },
    "collapsed": true
   },
   "outputs": [],
   "source": [
    "import pandas as pd\n",
    "import pandas_profiling as pp\n",
    "import numpy as np"
   ]
  },
  {
   "cell_type": "code",
   "execution_count": 9,
   "metadata": {
    "ExecuteTime": {
     "end_time": "2017-07-08T13:26:24.341504Z",
     "start_time": "2017-07-08T13:26:24.334938Z"
    }
   },
   "outputs": [],
   "source": [
    "commit_frame = pd.read_feather('povray-data/commit_frame.feather')"
   ]
  },
  {
   "cell_type": "code",
   "execution_count": 10,
   "metadata": {
    "ExecuteTime": {
     "end_time": "2017-07-08T13:26:26.096724Z",
     "start_time": "2017-07-08T13:26:26.072932Z"
    }
   },
   "outputs": [
    {
     "data": {
      "text/html": [
       "<div>\n",
       "<style>\n",
       "    .dataframe thead tr:only-child th {\n",
       "        text-align: right;\n",
       "    }\n",
       "\n",
       "    .dataframe thead th {\n",
       "        text-align: left;\n",
       "    }\n",
       "\n",
       "    .dataframe tbody tr th {\n",
       "        vertical-align: top;\n",
       "    }\n",
       "</style>\n",
       "<table border=\"1\" class=\"dataframe\">\n",
       "  <thead>\n",
       "    <tr style=\"text-align: right;\">\n",
       "      <th></th>\n",
       "      <th>hexsha</th>\n",
       "      <th>name_rev</th>\n",
       "      <th>size</th>\n",
       "      <th>author_name</th>\n",
       "      <th>author_email</th>\n",
       "      <th>authored_datetime</th>\n",
       "      <th>author_tz_offset</th>\n",
       "      <th>committer_name</th>\n",
       "      <th>committer_email</th>\n",
       "      <th>committed_datetime</th>\n",
       "      <th>committer_tz_offset</th>\n",
       "      <th>stats_total_files</th>\n",
       "      <th>stats_total_lines</th>\n",
       "      <th>stats_total_insertions</th>\n",
       "      <th>stats_total_deletions</th>\n",
       "      <th>encoding</th>\n",
       "      <th>message</th>\n",
       "    </tr>\n",
       "  </thead>\n",
       "  <tbody>\n",
       "    <tr>\n",
       "      <th>0</th>\n",
       "      <td>ea3d549a0c27c0dfb5c51e9fcd980866cfaf654b</td>\n",
       "      <td>remotes/origin/release/v3.7.1</td>\n",
       "      <td>370</td>\n",
       "      <td>Anshu Arya</td>\n",
       "      <td>github@anshuarya.com</td>\n",
       "      <td>2017-04-13 21:21:44</td>\n",
       "      <td>25200</td>\n",
       "      <td>Christoph Lipka</td>\n",
       "      <td>c-lipka@users.noreply.github.com</td>\n",
       "      <td>2017-04-13 21:21:44</td>\n",
       "      <td>-7200</td>\n",
       "      <td>1</td>\n",
       "      <td>598</td>\n",
       "      <td>156</td>\n",
       "      <td>442</td>\n",
       "      <td>UTF-8</td>\n",
       "      <td>Update AVXFMA4 noise implementation (#268)\\n\\n...</td>\n",
       "    </tr>\n",
       "    <tr>\n",
       "      <th>1</th>\n",
       "      <td>8a8c73e2edc8d55ff3e9e6762eefccf19ae07914</td>\n",
       "      <td>remotes/origin/release/v3.7.1~1</td>\n",
       "      <td>710</td>\n",
       "      <td>Anshu Arya</td>\n",
       "      <td>github@anshuarya.com</td>\n",
       "      <td>2017-04-13 21:19:21</td>\n",
       "      <td>25200</td>\n",
       "      <td>Christoph Lipka</td>\n",
       "      <td>c-lipka@users.noreply.github.com</td>\n",
       "      <td>2017-04-13 21:19:21</td>\n",
       "      <td>-7200</td>\n",
       "      <td>9</td>\n",
       "      <td>357</td>\n",
       "      <td>352</td>\n",
       "      <td>5</td>\n",
       "      <td>UTF-8</td>\n",
       "      <td>Add alternative AVX-optimized noise implementa...</td>\n",
       "    </tr>\n",
       "    <tr>\n",
       "      <th>2</th>\n",
       "      <td>3adbf759bf0b6be311dfe4d9b75c781bb8208999</td>\n",
       "      <td>remotes/origin/release/v3.7.1~2</td>\n",
       "      <td>333</td>\n",
       "      <td>wfpokorny</td>\n",
       "      <td>wfpokorny@yahoo.com</td>\n",
       "      <td>2017-04-12 20:41:44</td>\n",
       "      <td>14400</td>\n",
       "      <td>Christoph Lipka</td>\n",
       "      <td>c-lipka@users.noreply.github.com</td>\n",
       "      <td>2017-04-12 20:41:44</td>\n",
       "      <td>-7200</td>\n",
       "      <td>1</td>\n",
       "      <td>5</td>\n",
       "      <td>2</td>\n",
       "      <td>3</td>\n",
       "      <td>UTF-8</td>\n",
       "      <td>Improve AA performance. (#270)\\n\\nEspecially h...</td>\n",
       "    </tr>\n",
       "    <tr>\n",
       "      <th>3</th>\n",
       "      <td>2be22dd2068c7e1bacf134b788775ca4579ef664</td>\n",
       "      <td>remotes/origin/release/v3.7.1~3</td>\n",
       "      <td>291</td>\n",
       "      <td>wfpokorny</td>\n",
       "      <td>wfpokorny@yahoo.com</td>\n",
       "      <td>2017-04-06 11:18:13</td>\n",
       "      <td>14400</td>\n",
       "      <td>Christoph Lipka</td>\n",
       "      <td>c-lipka@users.noreply.github.com</td>\n",
       "      <td>2017-04-06 11:18:13</td>\n",
       "      <td>-7200</td>\n",
       "      <td>1</td>\n",
       "      <td>18</td>\n",
       "      <td>15</td>\n",
       "      <td>3</td>\n",
       "      <td>UTF-8</td>\n",
       "      <td>Relax Parse_Lathe point checking for versions ...</td>\n",
       "    </tr>\n",
       "    <tr>\n",
       "      <th>4</th>\n",
       "      <td>59ab7f260bc1250591cc6b5e8f544ac53f134039</td>\n",
       "      <td>remotes/origin/release/v3.7.1~4</td>\n",
       "      <td>317</td>\n",
       "      <td>Christoph Lipka</td>\n",
       "      <td>c-lipka@users.noreply.github.com</td>\n",
       "      <td>2017-04-04 14:16:39</td>\n",
       "      <td>-7200</td>\n",
       "      <td>Christoph Lipka</td>\n",
       "      <td>c-lipka@users.noreply.github.com</td>\n",
       "      <td>2017-04-04 14:16:39</td>\n",
       "      <td>-7200</td>\n",
       "      <td>2</td>\n",
       "      <td>24</td>\n",
       "      <td>18</td>\n",
       "      <td>6</td>\n",
       "      <td>UTF-8</td>\n",
       "      <td>Fix optional parameters of command-line-style ...</td>\n",
       "    </tr>\n",
       "  </tbody>\n",
       "</table>\n",
       "</div>"
      ],
      "text/plain": [
       "                                     hexsha                         name_rev  \\\n",
       "0  ea3d549a0c27c0dfb5c51e9fcd980866cfaf654b    remotes/origin/release/v3.7.1   \n",
       "1  8a8c73e2edc8d55ff3e9e6762eefccf19ae07914  remotes/origin/release/v3.7.1~1   \n",
       "2  3adbf759bf0b6be311dfe4d9b75c781bb8208999  remotes/origin/release/v3.7.1~2   \n",
       "3  2be22dd2068c7e1bacf134b788775ca4579ef664  remotes/origin/release/v3.7.1~3   \n",
       "4  59ab7f260bc1250591cc6b5e8f544ac53f134039  remotes/origin/release/v3.7.1~4   \n",
       "\n",
       "   size      author_name                      author_email  \\\n",
       "0   370       Anshu Arya              github@anshuarya.com   \n",
       "1   710       Anshu Arya              github@anshuarya.com   \n",
       "2   333        wfpokorny               wfpokorny@yahoo.com   \n",
       "3   291        wfpokorny               wfpokorny@yahoo.com   \n",
       "4   317  Christoph Lipka  c-lipka@users.noreply.github.com   \n",
       "\n",
       "    authored_datetime author_tz_offset   committer_name  \\\n",
       "0 2017-04-13 21:21:44            25200  Christoph Lipka   \n",
       "1 2017-04-13 21:19:21            25200  Christoph Lipka   \n",
       "2 2017-04-12 20:41:44            14400  Christoph Lipka   \n",
       "3 2017-04-06 11:18:13            14400  Christoph Lipka   \n",
       "4 2017-04-04 14:16:39            -7200  Christoph Lipka   \n",
       "\n",
       "                    committer_email  committed_datetime committer_tz_offset  \\\n",
       "0  c-lipka@users.noreply.github.com 2017-04-13 21:21:44               -7200   \n",
       "1  c-lipka@users.noreply.github.com 2017-04-13 21:19:21               -7200   \n",
       "2  c-lipka@users.noreply.github.com 2017-04-12 20:41:44               -7200   \n",
       "3  c-lipka@users.noreply.github.com 2017-04-06 11:18:13               -7200   \n",
       "4  c-lipka@users.noreply.github.com 2017-04-04 14:16:39               -7200   \n",
       "\n",
       "   stats_total_files  stats_total_lines  stats_total_insertions  \\\n",
       "0                  1                598                     156   \n",
       "1                  9                357                     352   \n",
       "2                  1                  5                       2   \n",
       "3                  1                 18                      15   \n",
       "4                  2                 24                      18   \n",
       "\n",
       "   stats_total_deletions encoding  \\\n",
       "0                    442    UTF-8   \n",
       "1                      5    UTF-8   \n",
       "2                      3    UTF-8   \n",
       "3                      3    UTF-8   \n",
       "4                      6    UTF-8   \n",
       "\n",
       "                                             message  \n",
       "0  Update AVXFMA4 noise implementation (#268)\\n\\n...  \n",
       "1  Add alternative AVX-optimized noise implementa...  \n",
       "2  Improve AA performance. (#270)\\n\\nEspecially h...  \n",
       "3  Relax Parse_Lathe point checking for versions ...  \n",
       "4  Fix optional parameters of command-line-style ...  "
      ]
     },
     "execution_count": 10,
     "metadata": {},
     "output_type": "execute_result"
    }
   ],
   "source": [
    "commit_frame.head()"
   ]
  },
  {
   "cell_type": "code",
   "execution_count": 29,
   "metadata": {
    "ExecuteTime": {
     "end_time": "2017-07-08T14:27:32.518395Z",
     "start_time": "2017-07-08T14:27:31.359285Z"
    },
    "scrolled": true
   },
   "outputs": [],
   "source": [
    "# pp.ProfileReport(commit_frame[['size', 'author_name', 'committed_datetime', 'stats_total_files', \n",
    "#                                'stats_total_lines', \n",
    "#                                'stats_total_insertions', 'stats_total_deletions']])\n",
    "commit_frame['author_tz_offset'] = commit_frame['author_tz_offset'].astype('int')\n",
    "commit_frame['committer_tz_offset'] = commit_frame['committer_tz_offset'].astype('int')\n",
    "report = pp.ProfileReport(commit_frame)\n",
    "report.to_file('povray-commits-profile.html')"
   ]
  },
  {
   "cell_type": "code",
   "execution_count": null,
   "metadata": {
    "collapsed": true
   },
   "outputs": [],
   "source": []
  }
 ],
 "metadata": {
  "kernelspec": {
   "display_name": "Python 3",
   "language": "python",
   "name": "python3"
  },
  "language_info": {
   "codemirror_mode": {
    "name": "ipython",
    "version": 3
   },
   "file_extension": ".py",
   "mimetype": "text/x-python",
   "name": "python",
   "nbconvert_exporter": "python",
   "pygments_lexer": "ipython3",
   "version": "3.6.1"
  },
  "toc": {
   "colors": {
    "hover_highlight": "#DAA520",
    "navigate_num": "#000000",
    "navigate_text": "#333333",
    "running_highlight": "#FF0000",
    "selected_highlight": "#FFD700",
    "sidebar_border": "#EEEEEE",
    "wrapper_background": "#FFFFFF"
   },
   "moveMenuLeft": true,
   "nav_menu": {
    "height": "12px",
    "width": "252px"
   },
   "navigate_menu": true,
   "number_sections": true,
   "sideBar": false,
   "threshold": 4,
   "toc_cell": false,
   "toc_section_display": "block",
   "toc_window_display": false,
   "widenNotebook": false
  }
 },
 "nbformat": 4,
 "nbformat_minor": 2
}
