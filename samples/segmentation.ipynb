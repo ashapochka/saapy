{
 "cells": [
  {
   "cell_type": "markdown",
   "metadata": {},
   "source": [
    "experiments with [How can I split multiple joined words? from Stackoverflow](http://stackoverflow.com/questions/195010/how-can-i-split-multiple-joined-words)"
   ]
  },
  {
   "cell_type": "code",
   "execution_count": 1,
   "metadata": {
    "collapsed": true
   },
   "outputs": [],
   "source": [
    "import re\n",
    "\n",
    "def words(text): \n",
    "    return re.findall('[a-z]+', text.lower())"
   ]
  },
  {
   "cell_type": "code",
   "execution_count": 12,
   "metadata": {
    "collapsed": false
   },
   "outputs": [
    {
     "name": "stdout",
     "output_type": "stream",
     "text": [
      "['a', 'b', 'c', 'try', 'big', 'die', 'hard', 'cool', 'cool']\n"
     ]
    }
   ],
   "source": [
    "sample_words = \"a b c try big die_hard cool7 cool\"\n",
    "print(words(sample_words))"
   ]
  },
  {
   "cell_type": "code",
   "execution_count": 13,
   "metadata": {
    "collapsed": false
   },
   "outputs": [
    {
     "name": "stdout",
     "output_type": "stream",
     "text": [
      "{'big': 1, 'b': 1, 'hard': 1, 'a': 1, 'die': 1, 'cool': 2, 'c': 1, 'try': 1}\n"
     ]
    }
   ],
   "source": [
    "from itertools import groupby\n",
    "\n",
    "dictionary = dict((w, len(list(ws)))\n",
    "                  for w, ws in groupby(sorted(words(sample_words))))\n",
    "\n",
    "print(dictionary)"
   ]
  },
  {
   "cell_type": "code",
   "execution_count": 14,
   "metadata": {
    "collapsed": false
   },
   "outputs": [
    {
     "name": "stdout",
     "output_type": "stream",
     "text": [
      "9.0\n",
      "4\n"
     ]
    }
   ],
   "source": [
    "max_word_length = max(map(len, dictionary))\n",
    "total = float(sum(dictionary.values()))\n",
    "print(total)\n",
    "print(max_word_length)"
   ]
  },
  {
   "cell_type": "code",
   "execution_count": 16,
   "metadata": {
    "collapsed": false
   },
   "outputs": [
    {
     "name": "stdout",
     "output_type": "stream",
     "text": [
      "t 0.0\n",
      "a 0.1111111111111111\n",
      "hard 0.1111111111111111\n",
      "cool 0.2222222222222222\n"
     ]
    }
   ],
   "source": [
    "def word_prob(word): \n",
    "    return dictionary.get(word, 0) / total\n",
    "\n",
    "for w in ['t', 'a', 'hard', 'cool']:\n",
    "    print(w, word_prob(w))"
   ]
  },
  {
   "cell_type": "code",
   "execution_count": 17,
   "metadata": {
    "collapsed": true
   },
   "outputs": [],
   "source": [
    "def viterbi_segment(text):\n",
    "    probs, lasts = [1.0], [0]\n",
    "    for i in range(1, len(text) + 1):\n",
    "        prob_k, k = max((probs[j] * word_prob(text[j:i]), j)\n",
    "                        for j in range(max(0, i - max_word_length), i))\n",
    "        probs.append(prob_k)\n",
    "        lasts.append(k)\n",
    "    words = []\n",
    "    i = len(text)\n",
    "    while 0 < i:\n",
    "        words.append(text[lasts[i]:i])\n",
    "        i = lasts[i]\n",
    "    words.reverse()\n",
    "    return words, probs[-1]"
   ]
  },
  {
   "cell_type": "code",
   "execution_count": 20,
   "metadata": {
    "collapsed": false
   },
   "outputs": [
    {
     "name": "stdout",
     "output_type": "stream",
     "text": [
      " ([], 1.0)\n",
      "gogo (['g', 'o', 'g', 'o'], 0.0)\n",
      "coolweather (['cool', 'w', 'e', 'a', 't', 'h', 'e', 'r'], 0.0)\n",
      "hardtry (['hard', 'try'], 0.012345679012345678)\n",
      "ac (['a', 'c'], 0.012345679012345678)\n"
     ]
    }
   ],
   "source": [
    "for w in ['', 'gogo', 'coolweather', 'hardtry', 'ac']:\n",
    "    print(w, viterbi_segment(w))"
   ]
  },
  {
   "cell_type": "code",
   "execution_count": null,
   "metadata": {
    "collapsed": true
   },
   "outputs": [],
   "source": []
  }
 ],
 "metadata": {
  "kernelspec": {
   "display_name": "Python 3",
   "language": "python",
   "name": "python3"
  },
  "language_info": {
   "codemirror_mode": {
    "name": "ipython",
    "version": 3
   },
   "file_extension": ".py",
   "mimetype": "text/x-python",
   "name": "python",
   "nbconvert_exporter": "python",
   "pygments_lexer": "ipython3",
   "version": "3.5.1"
  }
 },
 "nbformat": 4,
 "nbformat_minor": 0
}
