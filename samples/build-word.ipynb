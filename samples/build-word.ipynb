{
 "cells": [
  {
   "cell_type": "code",
   "execution_count": 1,
   "metadata": {
    "collapsed": false
   },
   "outputs": [
    {
     "ename": "FileNotFoundError",
     "evalue": "[Errno 2] No such file or directory: 'build-word/test.zip' -> ' build-word/test.docx'",
     "output_type": "error",
     "traceback": [
      "\u001b[0;31m---------------------------------------------------------------------------\u001b[0m",
      "\u001b[0;31mFileNotFoundError\u001b[0m                         Traceback (most recent call last)",
      "\u001b[0;32m<ipython-input-1-423dc2da177f>\u001b[0m in \u001b[0;36m<module>\u001b[0;34m()\u001b[0m\n\u001b[1;32m     23\u001b[0m             \u001b[0mf\u001b[0m\u001b[0;34m.\u001b[0m\u001b[0mwrite\u001b[0m\u001b[0;34m(\u001b[0m\u001b[0mfilepath\u001b[0m\u001b[0;34m,\u001b[0m \u001b[0mfilepath\u001b[0m\u001b[0;34m.\u001b[0m\u001b[0mreplace\u001b[0m\u001b[0;34m(\u001b[0m\u001b[0mstartdir\u001b[0m\u001b[0;34m,\u001b[0m\u001b[0;34m''\u001b[0m\u001b[0;34m)\u001b[0m\u001b[0;34m)\u001b[0m\u001b[0;34m\u001b[0m\u001b[0m\n\u001b[1;32m     24\u001b[0m \u001b[0;34m\u001b[0m\u001b[0m\n\u001b[0;32m---> 25\u001b[0;31m \u001b[0mos\u001b[0m\u001b[0;34m.\u001b[0m\u001b[0mrename\u001b[0m\u001b[0;34m(\u001b[0m\u001b[0;34m\"build-word/test.zip\"\u001b[0m\u001b[0;34m,\u001b[0m\u001b[0;34m\" build-word/test.docx\"\u001b[0m\u001b[0;34m)\u001b[0m\u001b[0;34m\u001b[0m\u001b[0m\n\u001b[0m",
      "\u001b[0;31mFileNotFoundError\u001b[0m: [Errno 2] No such file or directory: 'build-word/test.zip' -> ' build-word/test.docx'"
     ]
    }
   ],
   "source": [
    "import os\n",
    "from xml.dom import minidom\n",
    "import zipfile\n",
    "\n",
    "os.mkdir(\"build-word/test/_rels\")\n",
    "startdir = \"build-word/test\"\n",
    "\n",
    "xml1 = minidom.Document()\n",
    "\n",
    "wdoc = xml1.createElement(\"w:document\")\n",
    "wdoc.setAttribute(\"xmlns:w\",\"http://schemas.openxmlformats.org/wordprocessingml/2006/main\")\n",
    "xml1.appendChild(wdoc)\n",
    "text=xml1.createTextNode(\"openxml\")\n",
    "\n",
    "\n",
    "with open(\"build-word/test/document.xml\",\"w\") as fp:\n",
    "    xml1.writexml(fp, \"    \", \"\", \"\\n\", \"UTF-8\")\n",
    "\n",
    "with zipfile.ZipFile('build-word/test.zip','w',zipfile.ZIP_DEFLATED) as f:\n",
    "    for dirpath,dirnames,filenames in os.walk(startdir):\n",
    "        for filename in filenames:\n",
    "            filepath = os.path.join(dirpath,filename)\n",
    "            f.write(filepath, filepath.replace(startdir,''))   \n",
    "\n",
    "os.rename(\"build-word/test.zip\", \"build-word/test.docx\")"
   ]
  },
  {
   "cell_type": "code",
   "execution_count": 4,
   "metadata": {
    "collapsed": false
   },
   "outputs": [],
   "source": [
    "from pathlib import Path\n",
    "from zipfile import ZipFile\n",
    "\n",
    "\n",
    "class WordPackage:\n",
    "    def __init__(self, root_dir, document_name):\n",
    "        self.root_dir = Path(root_dir).resolve()\n",
    "        self.document_name = document_name\n",
    "        self.docx_file = self.root_dir / '{0}.docx'.format(document_name)\n",
    "    \n",
    "    def _make_subdir(self, parent_dir, subdir_name):\n",
    "        subdir = parent_dir / subdir_name\n",
    "        if not subdir.exists():\n",
    "            subdir.mkdir()\n",
    "        return subdir\n",
    "        \n",
    "    def prepare_structure(self):\n",
    "        self.docx_dir = self._make_subdir(root_dir, document_name)\n",
    "        self.docx_rels_dir = self._make_subdir(self.docx_dir, '_rels')\n",
    "        self.docx_word_dir = self._make_subdir(self.docx_dir, 'word')\n",
    "        content_types_xml = document_dir / '[Content_Types].xml'\n",
    "        \n",
    "    def package_document(self):\n",
    "        with ZipFile(self.docx_file, 'w', zipfile.ZIP_DEFLATED) as docx:\n",
    "            for packaged_path in self.docx_dir.iterdir():\n",
    "                if packaged_path.is_dir():\n",
    "                    continue\n",
    "                docx.write(packaged_path, packaged_path.relative_to(self.docx_dir))\n",
    "        return self.docx_file\n",
    "\n",
    "\n",
    "def main():\n",
    "    test2 = WordPackage('./build-word', 'test2')\n",
    "    test2.prepare_structure()\n",
    "    test2.package_document()"
   ]
  },
  {
   "cell_type": "code",
   "execution_count": 5,
   "metadata": {
    "collapsed": true
   },
   "outputs": [],
   "source": [
    "main()"
   ]
  },
  {
   "cell_type": "code",
   "execution_count": 10,
   "metadata": {
    "collapsed": false
   },
   "outputs": [
    {
     "data": {
      "text/plain": [
       "b'<?xml version=\\'1.0\\' encoding=\\'utf-8\\'?>\\n<Types xmlns=\"http://schemas.openxmlformats.org/package/2006/content-types\"><Default ContentType=\"application/xml\" Extension=\"xml\" /></Types>'"
      ]
     },
     "execution_count": 10,
     "metadata": {},
     "output_type": "execute_result"
    }
   ],
   "source": [
    "import xml.etree.ElementTree as et\n",
    "import io\n",
    "\n",
    "types = et.Element('Types', attrib=dict(xmlns=\"http://schemas.openxmlformats.org/package/2006/content-types\"))\n",
    "default = et.SubElement(types, 'Default', attrib=dict(Extension=\"xml\", ContentType=\"application/xml\"))\n",
    "content_types = et.ElementTree(types)\n",
    "output = io.BytesIO()\n",
    "content_types.write(\n",
    "    output, \n",
    "    encoding='utf-8', \n",
    "    xml_declaration=True)\n",
    "    # default_namespace=\"http://schemas.openxmlformats.org/package/2006/content-types\")\n",
    "ct_str = output.getvalue()\n",
    "\n",
    "ct_str"
   ]
  },
  {
   "cell_type": "code",
   "execution_count": 13,
   "metadata": {
    "collapsed": false
   },
   "outputs": [],
   "source": [
    "document_ns_map = {\n",
    "    'xmlns:w': \"http://schemas.openxmlformats.org/wordprocessingml/2006/main\", \n",
    "    'xmlns:m': \"http://schemas.openxmlformats.org/officeDocument/2006/math\", \n",
    "    'xmlns:r': \"http://schemas.openxmlformats.org/officeDocument/2006/relationships\", \n",
    "    'xmlns:o': \"urn:schemas-microsoft-com:office:office\", \n",
    "    'xmlns:v': \"urn:schemas-microsoft-com:vml\", \n",
    "    'xmlns:w10': \"urn:schemas-microsoft-com:office:word\", \n",
    "    'xmlns:a': \"http://schemas.openxmlformats.org/drawingml/2006/main\", \n",
    "    'xmlns:pic': \"http://schemas.openxmlformats.org/drawingml/2006/picture\", \n",
    "    'xmlns:wp': \"http://schemas.openxmlformats.org/drawingml/2006/wordprocessingDrawing\"\n",
    "}"
   ]
  },
  {
   "cell_type": "code",
   "execution_count": null,
   "metadata": {
    "collapsed": true
   },
   "outputs": [],
   "source": []
  }
 ],
 "metadata": {
  "kernelspec": {
   "display_name": "Python 3",
   "language": "python",
   "name": "python3"
  },
  "language_info": {
   "codemirror_mode": {
    "name": "ipython",
    "version": 3
   },
   "file_extension": ".py",
   "mimetype": "text/x-python",
   "name": "python",
   "nbconvert_exporter": "python",
   "pygments_lexer": "ipython3",
   "version": "3.5.1"
  }
 },
 "nbformat": 4,
 "nbformat_minor": 0
}
